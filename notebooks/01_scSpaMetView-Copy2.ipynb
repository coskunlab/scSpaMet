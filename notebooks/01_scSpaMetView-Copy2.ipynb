{
 "cells": [
  {
   "cell_type": "code",
   "execution_count": 1,
   "metadata": {},
   "outputs": [],
   "source": [
    "import os \n",
    "import sys\n",
    "from os import listdir\n",
    "from os.path import isfile, join\n",
    "import numpy as np\n",
    "import matplotlib.pyplot as plt\n",
    "from tqdm.notebook import trange, tqdm\n",
    "import skimage\n",
    "from skimage import io, color, exposure\n",
    "from skimage.util import img_as_ubyte\n",
    "from skimage.transform import resize\n",
    "from sklearn.preprocessing import MinMaxScaler\n",
    "import matplotlib\n",
    "from pathlib import Path\n",
    "import re\n",
    "import h5py\n",
    "import cv2 as cv\n",
    "from scipy import signal\n",
    "import scipy.ndimage\n",
    "import seaborn as sns\n",
    "import pandas as pd\n",
    "import scanpy as sc\n",
    "import anndata as ad\n",
    "import cv2\n",
    "\n",
    "from matplotlib.pyplot import rc_context\n",
    "sc.settings.verbosity = 3\n"
   ]
  },
  {
   "cell_type": "code",
   "execution_count": 2,
   "metadata": {},
   "outputs": [],
   "source": [
    "p_dir = (Path().cwd().parents[0]).absolute()\n",
    "data_dir = p_dir / 'data'"
   ]
  },
  {
   "cell_type": "code",
   "execution_count": 3,
   "metadata": {},
   "outputs": [],
   "source": [
    "%load_ext autoreload\n",
    "%autoreload 2\n",
    "\n",
    "module_path = str(p_dir / \"src\")\n",
    "\n",
    "if module_path not in sys.path:\n",
    "    sys.path.append(module_path)\n",
    "\n",
    "import utils as my_utils"
   ]
  },
  {
   "cell_type": "markdown",
   "metadata": {},
   "source": [
    "# Read images"
   ]
  },
  {
   "cell_type": "code",
   "execution_count": 4,
   "metadata": {},
   "outputs": [],
   "source": [
    "import umap\n",
    "h5_data_dir = p_dir / 'data' / 'h5'\n",
    "\n",
    "def get_imgs(experiment, name):\n",
    "    with h5py.File(h5_data_dir / f'{experiment}.hdf5', 'r') as f:\n",
    "        imgs = f[name][:]\n",
    "        labels = list(f[name].attrs['labels'])\n",
    "        fov = f[name].attrs['fov']\n",
    "    return imgs, labels, fov\n",
    "\n",
    "def get_imgs_index(imgs, index_list):\n",
    "    \n",
    "    imgs_subset = imgs[index_list, :,:]\n",
    "    img_combined = np.sum(imgs_subset, axis=0)\n",
    "    return contrast_stretching(img_combined)\n",
    "\n",
    "def get_mass(file):\n",
    "    labels = ['total', 'rest']\n",
    "    with open(file) as infile:\n",
    "        next(infile)\n",
    "        for line in infile:\n",
    "            mass = float(line.split(\"\\t\")[1])\n",
    "            mass = np.round(mass, 1)\n",
    "            labels.append(mass)\n",
    "    return labels\n",
    "\n",
    "def normalize(imgs, labels, dataset):\n",
    "    data_all = imgs.reshape(-1, imgs.shape[1]*imgs.shape[1]).transpose()\n",
    "    \n",
    "    pseudo_count=1\n",
    "    data_all_norm = (data_all+pseudo_count)/(np.percentile(data_all,50,axis=1,keepdims=True)+pseudo_count)\n",
    "    data_all_norm = MinMaxScaler().fit_transform(data_all_norm)\n",
    "\n",
    "    # Transform to annadata type\n",
    "    adata = ad.AnnData(data_all_norm, dtype=data_all_norm.dtype)\n",
    "    adata.var_names = np.array(labels).astype(str)\n",
    "    adata.obs['Dataset'] = dataset\n",
    "    return adata\n",
    "\n",
    "def umap_transform(adata):\n",
    "    sc.tl.pca(adata)\n",
    "    sc.pp.neighbors(adata)\n",
    "    sc.tl.umap(adata,n_components=3)\n",
    "    embedding = adata.obsm['X_umap']\n",
    "    \n",
    "    # Transform feature range\n",
    "    fg_umap_norm = MinMaxScaler().fit_transform(embedding)\n",
    "    fg_umap_norm[:,0] = MinMaxScaler(feature_range=(0, 100)).fit_transform(fg_umap_norm[:,0][:,None])[:,0]\n",
    "    fg_umap_norm[:,1] = MinMaxScaler(feature_range=(-128, 127)).fit_transform(fg_umap_norm[:,1][:,None])[:,0]\n",
    "    fg_umap_norm[:,2] = MinMaxScaler(feature_range=(-128, 127)).fit_transform(fg_umap_norm[:,2][:,None])[:,0]\n",
    "    \n",
    "    adata.obsm['X_umap'] = fg_umap_norm"
   ]
  },
  {
   "cell_type": "code",
   "execution_count": 5,
   "metadata": {},
   "outputs": [],
   "source": [
    "masses = get_mass(data_dir / 'metadata' / 'peak.TXT')"
   ]
  },
  {
   "cell_type": "code",
   "execution_count": 6,
   "metadata": {},
   "outputs": [],
   "source": [
    "experiment = 'lung'\n",
    "\n",
    "ts_data_dir = p_dir / 'data' / 'tof-sims' / experiment\n",
    "images_dir = p_dir / 'figures' / 'surface_plot'\n",
    "\n",
    "datasets = listdir(ts_data_dir)\n",
    "datasets = [dataset for dataset in datasets if 'auto' not in dataset]"
   ]
  },
  {
   "cell_type": "code",
   "execution_count": null,
   "metadata": {},
   "outputs": [
    {
     "name": "stdout",
     "output_type": "stream",
     "text": [
      "B5_1\n"
     ]
    }
   ],
   "source": [
    "m_start = 5\n",
    "adatas = []\n",
    "for dataset in datasets:\n",
    "    # Read images and get PO3 channel\n",
    "    print(dataset)\n",
    "    imgs, labels, fov = get_imgs(experiment, dataset)\n",
    "    shape = imgs[0].shape[0]\n",
    "    fov = int(fov)\n",
    "    \n",
    "    # Get pixels from reshaped image\n",
    "    imgs_stack = imgs[m_start:,:,:]\n",
    "    # imgs_stack = resize(imgs_stack, (imgs_stack.shape[0], fov, fov), anti_aliasing=True)\n",
    "    # labels = masses[m_start:]\n",
    "    labels = labels[m_start:]\n",
    "    \n",
    "    adata_subset = normalize(imgs_stack, labels, dataset)\n",
    "    # Append to adatas\n",
    "    adatas.append(adata_subset)\n",
    "    print(adata_subset.X.shape)\n",
    "    \n",
    "adata = ad.concat(adatas)"
   ]
  },
  {
   "cell_type": "code",
   "execution_count": 8,
   "metadata": {},
   "outputs": [
    {
     "data": {
      "text/plain": [
       "AnnData object with n_obs × n_vars = 7864320 × 61\n",
       "    obs: 'Dataset'"
      ]
     },
     "execution_count": 8,
     "metadata": {},
     "output_type": "execute_result"
    }
   ],
   "source": [
    "adata"
   ]
  },
  {
   "cell_type": "code",
   "execution_count": null,
   "metadata": {},
   "outputs": [
    {
     "name": "stdout",
     "output_type": "stream",
     "text": [
      "computing PCA\n",
      "    with n_comps=50\n",
      "    finished (0:00:50)\n",
      "computing neighbors\n",
      "    using 'X_pca' with n_pcs = 50\n"
     ]
    }
   ],
   "source": [
    "umap_transform(adata)"
   ]
  },
  {
   "cell_type": "code",
   "execution_count": null,
   "metadata": {},
   "outputs": [],
   "source": [
    "for dataset in datasets:\n",
    "    print(dataset)\n",
    "    adata_subset = adata[adata.obs.Dataset == dataset, :]\n",
    "    fov = int(np.sqrt(len(adata_subset)))\n",
    "    \n",
    "    X_umap = adata_subset.obsm['X_umap']\n",
    "    \n",
    "    data_rgb_img = X_umap.reshape(fov, fov, 3)\n",
    "    data_rgb_img = color.lab2rgb(data_rgb_img)\n",
    "    \n",
    "    sns.set(style='white')\n",
    "    sns.set_color_codes('deep')\n",
    "    plt.figure(figsize=(10,10))\n",
    "    plt.imshow(data_rgb_img)\n",
    "    plt.xticks([])\n",
    "    plt.yticks([])\n"
   ]
  },
  {
   "cell_type": "code",
   "execution_count": 20,
   "metadata": {},
   "outputs": [],
   "source": [
    "# for dataset in datasets[-1:]:\n",
    "#     print(dataset)\n",
    "#     adata_subset = adata[adata.obs.Dataset == dataset, :]\n",
    "#     fov = int(np.sqrt(len(adata_subset)))\n",
    "    \n",
    "#     X_umap = adata_subset.obsm['X_umap']\n",
    "#     X_umap = MinMaxScaler().fit_transform(X_umap)\n",
    "    \n",
    "#     colors = np.clip(X_umap, 0, 1)\n",
    "\n",
    "#     # Plot rgb umap\n",
    "#     fig = plt.figure()\n",
    "#     ax = fig.add_subplot(111, projection='3d')\n",
    "#     ax.scatter(xs=X_umap[:,0], ys=X_umap[:,1], zs=X_umap[:,2], s=10,  c=colors, lw=0)\n",
    "#     ax.set_xlabel('R')\n",
    "#     ax.set_ylabel('G')\n",
    "#     ax.set_zlabel('B')\n",
    "#     plt.show()\n",
    "    \n",
    "#     x = np.arange(0, fov)\n",
    "#     y = np.arange(0,  fov)\n",
    "#     xv, yv = np.meshgrid(x, y)\n",
    "\n",
    "#     X = xv.reshape(1, -1)[0]\n",
    "#     Y = yv.reshape(1, -1)[0]\n",
    "\n",
    "#     assert len(X) == len(X_umap)\n",
    "\n",
    "#     img = np.zeros((fov, fov, 3), dtype=np.uint8)\n",
    "\n",
    "#     image_LAB = cv2.cvtColor(img, cv2.COLOR_RGB2LAB)\n",
    "#     X_umap_lab = image_LAB.reshape(-1, 3)\n",
    "    \n",
    "#     # PLot lab umap\n",
    "#     colors = MinMaxScaler().fit_transform(X_umap_lab)\n",
    "#     fig = plt.figure()\n",
    "#     ax = fig.add_subplot(111, projection='3d')\n",
    "#     ax.scatter(xs=X_umap[:,0], ys=X_umap[:,1], zs=X_umap[:,2], s=10,  c=np.clip(colors,a_min=0, a_max=1), lw=0)\n",
    "#     ax.set_xlabel('L')\n",
    "#     ax.set_ylabel('A')\n",
    "#     ax.set_zlabel('B')\n",
    "#     plt.show()\n",
    "    \n",
    "#     # plot rgb image\n",
    "#     fig, ax = plt.subplots(figsize=(7,7))\n",
    "#     ax.imshow(img)\n",
    "#     ax.axis('off')\n",
    "    \n",
    "#     # Plot lab image\n",
    "#     fig, ax = plt.subplots(figsize=(7,7))\n",
    "#     ax.imshow(image_LAB)\n",
    "#     ax.axis('off')\n",
    "#     break"
   ]
  },
  {
   "cell_type": "code",
   "execution_count": null,
   "metadata": {},
   "outputs": [],
   "source": []
  }
 ],
 "metadata": {
  "kernelspec": {
   "display_name": "Python [conda env:.conda-thomas-env] *",
   "language": "python",
   "name": "conda-env-.conda-thomas-env-py"
  },
  "language_info": {
   "codemirror_mode": {
    "name": "ipython",
    "version": 3
   },
   "file_extension": ".py",
   "mimetype": "text/x-python",
   "name": "python",
   "nbconvert_exporter": "python",
   "pygments_lexer": "ipython3",
   "version": "3.9.7"
  }
 },
 "nbformat": 4,
 "nbformat_minor": 4
}
