{
 "cells": [
  {
   "cell_type": "code",
   "execution_count": 1,
   "id": "a0b11cc7-8d9f-488b-a155-1c7a30e9ec30",
   "metadata": {},
   "outputs": [],
   "source": [
    "import os\n",
    "import re\n",
    "import sys\n",
    "from pathlib import Path\n",
    "\n",
    "import matplotlib.pyplot as plt\n",
    "import numpy as np\n",
    "import pandas as pd\n",
    "import scanpy as sc\n",
    "import anndata as ad\n",
    "import seaborn as sns\n",
    "from matplotlib.pyplot import rc_context\n",
    "from tqdm.notebook import tqdm, trange\n",
    "from sklearn.preprocessing import MinMaxScaler\n",
    "sc.settings.verbosity = 3\n",
    "\n",
    "from tqdm import tqdm"
   ]
  },
  {
   "cell_type": "code",
   "execution_count": 2,
   "id": "bc85ac78-e65f-4eaa-9b11-2b5986c9cfc6",
   "metadata": {},
   "outputs": [],
   "source": [
    "p_dir = (Path().cwd().parents[0]).absolute()\n",
    "data_dir = p_dir / \"data\""
   ]
  },
  {
   "cell_type": "code",
   "execution_count": 3,
   "id": "fad110f0-7ce5-4007-a157-8445725055e1",
   "metadata": {},
   "outputs": [],
   "source": [
    "%load_ext autoreload\n",
    "%autoreload 2\n",
    "\n",
    "module_path = str(p_dir / \"src\")\n",
    "\n",
    "if module_path not in sys.path:\n",
    "    sys.path.append(module_path)\n"
   ]
  },
  {
   "cell_type": "code",
   "execution_count": 4,
   "id": "d2269718-f558-4063-9800-3b8ce8fc0063",
   "metadata": {},
   "outputs": [],
   "source": [
    "import scSpaMet as spamet"
   ]
  },
  {
   "cell_type": "code",
   "execution_count": 5,
   "id": "a7767f06-47ae-4870-8846-70107caf0e39",
   "metadata": {},
   "outputs": [
    {
     "name": "stderr",
     "output_type": "stream",
     "text": [
      "C:\\Users\\thu71\\Anaconda3\\envs\\sgraph\\lib\\site-packages\\anndata\\_core\\anndata.py:1828: UserWarning: Observation names are not unique. To make them unique, call `.obs_names_make_unique`.\n",
      "  utils.warn_names_duplicates(\"obs\")\n"
     ]
    }
   ],
   "source": [
    "experiment = \"Lung\"\n",
    "adata = sc.read_h5ad(data_dir / \"adata\" / f\"{experiment}_vae.h5ad\")"
   ]
  },
  {
   "cell_type": "markdown",
   "id": "51786cf0-56ad-4391-8fef-d475556f4aa3",
   "metadata": {},
   "source": [
    "# Unsupervised graph embedding"
   ]
  },
  {
   "cell_type": "code",
   "execution_count": 6,
   "id": "54c6a7ae-cf21-4799-a6be-1a96a28118d9",
   "metadata": {},
   "outputs": [],
   "source": [
    "import stellargraph as sg\n",
    "import tensorflow as tf\n",
    "from sklearn.neighbors import NearestNeighbors\n",
    "from tensorflow import keras\n",
    "import networkx as nx\n",
    "\n",
    "def get_NN_radius(adata, r):\n",
    "    data = adata.obsm[\"spatial\"]\n",
    "    fit = NearestNeighbors(radius=r).fit(data)\n",
    "    m = fit.radius_neighbors(data, return_distance=False)\n",
    "    \n",
    "    # Put in dataframe format\n",
    "    neighbours = pd.DataFrame(m.tolist(), index = adata.obs.index)\n",
    "    return neighbours"
   ]
  },
  {
   "cell_type": "code",
   "execution_count": 7,
   "id": "0293ba43-4c9f-476e-be97-215c073dfaa4",
   "metadata": {},
   "outputs": [],
   "source": [
    "# Create nearest neighbor graph \n",
    "r = 15\n",
    "graphs = []\n",
    "\n",
    "for dataset in adata.obs.Dataset.unique():\n",
    "    adata_subset = adata[adata.obs.Dataset == dataset, :] \n",
    "    neighbors = get_NN_radius(adata_subset, r)\n",
    "\n",
    "    # Create edge features\n",
    "    neighbors.index.set_names(['Cell'], inplace=True)\n",
    "    neighbors.reset_index(inplace=True)\n",
    "    neighbors = neighbors.melt(id_vars='Cell', value_name='Neighbor').dropna().astype(int) \n",
    "    \n",
    "    # Create node features\n",
    "    features = pd.DataFrame(adata_subset.obsm['Joint'])\n",
    "    \n",
    "    # Create graph\n",
    "    graph = sg.StellarGraph(\n",
    "        features, \n",
    "        edges=neighbors, source_column=\"Cell\", target_column='Neighbor'\n",
    "    )\n",
    "    graphs.append(graph)"
   ]
  },
  {
   "cell_type": "code",
   "execution_count": 8,
   "id": "4dc63bbc-638e-4caf-8852-c0425edaa53d",
   "metadata": {},
   "outputs": [],
   "source": [
    "generator = sg.mapper.PaddedGraphGenerator(graphs)\n",
    "\n",
    "gc_model = sg.layer.GCNSupervisedGraphClassification(\n",
    "    [64, 32], [\"relu\", \"relu\"], generator, pool_all_layers=True\n",
    ")\n",
    "\n",
    "inp1, out1 = gc_model.in_out_tensors()\n",
    "inp2, out2 = gc_model.in_out_tensors()\n",
    "\n",
    "vec_distance = tf.norm(out1 - out2, axis=1)\n",
    "\n",
    "pair_model = keras.Model(inp1 + inp2, vec_distance)\n",
    "embedding_model = keras.Model(inp1, out1)"
   ]
  },
  {
   "cell_type": "code",
   "execution_count": 9,
   "id": "6170b8d0-74ca-4926-afe2-c34770345214",
   "metadata": {},
   "outputs": [],
   "source": [
    "def graph_distance(graph1, graph2):\n",
    "    spec1 = nx.laplacian_spectrum(graph1.to_networkx(feature_attr=None))\n",
    "    spec2 = nx.laplacian_spectrum(graph2.to_networkx(feature_attr=None))\n",
    "    k = min(len(spec1), len(spec2))\n",
    "    return np.linalg.norm(spec1[:k] - spec2[:k])"
   ]
  },
  {
   "cell_type": "code",
   "execution_count": 10,
   "id": "6a9d4f93-32c9-4dbd-b2ac-1da52ff37fe3",
   "metadata": {},
   "outputs": [
    {
     "name": "stderr",
     "output_type": "stream",
     "text": [
      "  0%|                                                             | 0/100 [00:00<?, ?it/s]<class 'networkx.utils.decorators.argmap'> compilation 4:4: FutureWarning: laplacian_matrix will return a scipy.sparse array instead of a matrix in Networkx 3.0.\n",
      "100%|███████████████████████████████████████████████████| 100/100 [00:21<00:00,  4.63it/s]\n"
     ]
    }
   ],
   "source": [
    "# Get traning examples\n",
    "graph_idx = np.random.RandomState(0).randint(len(graphs), size=(100, 2))\n",
    "targets = [graph_distance(graphs[left], graphs[right]) for left, right in  tqdm(graph_idx)]\n",
    "train_gen = generator.flow(graph_idx, batch_size=10, targets=targets)\n"
   ]
  },
  {
   "cell_type": "code",
   "execution_count": 11,
   "id": "cc605dac-695c-4e74-895a-608456eed2e8",
   "metadata": {},
   "outputs": [],
   "source": [
    "# Training \n",
    "pair_model.compile(keras.optimizers.Adam(1e-2), loss=\"mse\")"
   ]
  },
  {
   "cell_type": "code",
   "execution_count": 12,
   "id": "de7754b2-37ea-472a-add7-4ca06da8946b",
   "metadata": {},
   "outputs": [
    {
     "name": "stdout",
     "output_type": "stream",
     "text": [
      "Epoch 1/100\n",
      "10/10 [==============================] - 4s 292ms/step - loss: 6102.6479\n",
      "Epoch 2/100\n",
      "10/10 [==============================] - 3s 287ms/step - loss: 4414.6265\n",
      "Epoch 3/100\n",
      "10/10 [==============================] - 3s 288ms/step - loss: 3742.0632\n",
      "Epoch 4/100\n",
      "10/10 [==============================] - 3s 275ms/step - loss: 3396.2498\n",
      "Epoch 5/100\n",
      "10/10 [==============================] - 3s 259ms/step - loss: 3201.6819\n",
      "Epoch 6/100\n",
      "10/10 [==============================] - 3s 264ms/step - loss: 3134.1487\n",
      "Epoch 7/100\n",
      "10/10 [==============================] - 3s 264ms/step - loss: 3054.8694\n",
      "Epoch 8/100\n",
      "10/10 [==============================] - 3s 265ms/step - loss: 2956.2932\n",
      "Epoch 9/100\n",
      "10/10 [==============================] - 3s 267ms/step - loss: 2852.5950\n",
      "Epoch 10/100\n",
      "10/10 [==============================] - 3s 258ms/step - loss: 2757.8379\n",
      "Epoch 11/100\n",
      "10/10 [==============================] - 3s 256ms/step - loss: 2597.9570\n",
      "Epoch 12/100\n",
      "10/10 [==============================] - 3s 264ms/step - loss: 2436.0906\n",
      "Epoch 13/100\n",
      "10/10 [==============================] - 3s 262ms/step - loss: 2235.8643\n",
      "Epoch 14/100\n",
      "10/10 [==============================] - 3s 252ms/step - loss: 2019.4955\n",
      "Epoch 15/100\n",
      "10/10 [==============================] - 3s 254ms/step - loss: 1824.6539\n",
      "Epoch 16/100\n",
      "10/10 [==============================] - 3s 260ms/step - loss: 1688.6687\n",
      "Epoch 17/100\n",
      "10/10 [==============================] - 3s 261ms/step - loss: 1509.1687\n",
      "Epoch 18/100\n",
      "10/10 [==============================] - 3s 290ms/step - loss: 1394.8636\n",
      "Epoch 19/100\n",
      "10/10 [==============================] - 3s 289ms/step - loss: 1300.0701\n",
      "Epoch 20/100\n",
      "10/10 [==============================] - 3s 281ms/step - loss: 1219.2799\n",
      "Epoch 21/100\n",
      "10/10 [==============================] - 3s 278ms/step - loss: 1139.5898\n",
      "Epoch 22/100\n",
      "10/10 [==============================] - 3s 288ms/step - loss: 1068.8263\n",
      "Epoch 23/100\n",
      "10/10 [==============================] - 3s 311ms/step - loss: 1035.8662\n",
      "Epoch 24/100\n",
      "10/10 [==============================] - 3s 314ms/step - loss: 964.3959\n",
      "Epoch 25/100\n",
      "10/10 [==============================] - 3s 273ms/step - loss: 941.3003\n",
      "Epoch 26/100\n",
      "10/10 [==============================] - 3s 267ms/step - loss: 893.5626\n",
      "Epoch 27/100\n",
      "10/10 [==============================] - 3s 266ms/step - loss: 896.3691\n",
      "Epoch 28/100\n",
      "10/10 [==============================] - 3s 264ms/step - loss: 851.3141\n",
      "Epoch 29/100\n",
      "10/10 [==============================] - 3s 267ms/step - loss: 828.0834\n",
      "Epoch 30/100\n",
      "10/10 [==============================] - 3s 263ms/step - loss: 813.1953\n",
      "Epoch 31/100\n",
      "10/10 [==============================] - 3s 283ms/step - loss: 823.4076\n",
      "Epoch 32/100\n",
      "10/10 [==============================] - 3s 335ms/step - loss: 797.2198\n",
      "Epoch 33/100\n",
      "10/10 [==============================] - 3s 330ms/step - loss: 769.7527\n",
      "Epoch 34/100\n",
      "10/10 [==============================] - 3s 304ms/step - loss: 762.5229\n",
      "Epoch 35/100\n",
      "10/10 [==============================] - 3s 300ms/step - loss: 753.2168\n",
      "Epoch 36/100\n",
      "10/10 [==============================] - 3s 312ms/step - loss: 748.9988\n",
      "Epoch 37/100\n",
      "10/10 [==============================] - 3s 309ms/step - loss: 742.3638\n",
      "Epoch 38/100\n",
      "10/10 [==============================] - 3s 297ms/step - loss: 725.0560\n",
      "Epoch 39/100\n",
      "10/10 [==============================] - 3s 315ms/step - loss: 720.3973\n",
      "Epoch 40/100\n",
      "10/10 [==============================] - 3s 309ms/step - loss: 707.3370\n",
      "Epoch 41/100\n",
      "10/10 [==============================] - 3s 295ms/step - loss: 702.0201\n",
      "Epoch 42/100\n",
      "10/10 [==============================] - 3s 311ms/step - loss: 676.2456\n",
      "Epoch 43/100\n",
      "10/10 [==============================] - 3s 311ms/step - loss: 687.9017\n",
      "Epoch 44/100\n",
      "10/10 [==============================] - 3s 295ms/step - loss: 690.0093\n",
      "Epoch 45/100\n",
      "10/10 [==============================] - 3s 282ms/step - loss: 662.2936\n",
      "Epoch 46/100\n",
      "10/10 [==============================] - 3s 260ms/step - loss: 664.7944\n",
      "Epoch 47/100\n",
      "10/10 [==============================] - 3s 263ms/step - loss: 638.2095\n",
      "Epoch 48/100\n",
      "10/10 [==============================] - 3s 300ms/step - loss: 654.7308\n",
      "Epoch 49/100\n",
      "10/10 [==============================] - 3s 295ms/step - loss: 660.0660\n",
      "Epoch 50/100\n",
      "10/10 [==============================] - 3s 281ms/step - loss: 619.8701\n",
      "Epoch 51/100\n",
      "10/10 [==============================] - 3s 271ms/step - loss: 610.3227\n",
      "Epoch 52/100\n",
      "10/10 [==============================] - 3s 264ms/step - loss: 615.8052\n",
      "Epoch 53/100\n",
      "10/10 [==============================] - 3s 264ms/step - loss: 594.9794\n",
      "Epoch 54/100\n",
      "10/10 [==============================] - 3s 267ms/step - loss: 592.2234\n",
      "Epoch 55/100\n",
      "10/10 [==============================] - 3s 262ms/step - loss: 585.3366\n",
      "Epoch 56/100\n",
      "10/10 [==============================] - 3s 262ms/step - loss: 561.7979\n",
      "Epoch 57/100\n",
      "10/10 [==============================] - 3s 260ms/step - loss: 568.6191\n",
      "Epoch 58/100\n",
      "10/10 [==============================] - 3s 262ms/step - loss: 550.3253\n",
      "Epoch 59/100\n",
      "10/10 [==============================] - 3s 260ms/step - loss: 556.0055\n",
      "Epoch 60/100\n",
      "10/10 [==============================] - 3s 262ms/step - loss: 543.9182\n",
      "Epoch 61/100\n",
      "10/10 [==============================] - 3s 272ms/step - loss: 550.1824\n",
      "Epoch 62/100\n",
      "10/10 [==============================] - 3s 267ms/step - loss: 532.4805\n",
      "Epoch 63/100\n",
      "10/10 [==============================] - 3s 266ms/step - loss: 534.6520\n",
      "Epoch 64/100\n",
      "10/10 [==============================] - 3s 264ms/step - loss: 513.4981\n",
      "Epoch 65/100\n",
      "10/10 [==============================] - 3s 273ms/step - loss: 508.9429\n",
      "Epoch 66/100\n",
      "10/10 [==============================] - 3s 274ms/step - loss: 508.1494\n",
      "Epoch 67/100\n",
      "10/10 [==============================] - 3s 285ms/step - loss: 498.2572\n",
      "Epoch 68/100\n",
      "10/10 [==============================] - 3s 287ms/step - loss: 508.3620\n",
      "Epoch 69/100\n",
      "10/10 [==============================] - 3s 278ms/step - loss: 477.6197\n",
      "Epoch 70/100\n",
      "10/10 [==============================] - 3s 269ms/step - loss: 472.6626\n",
      "Epoch 71/100\n",
      "10/10 [==============================] - 3s 269ms/step - loss: 475.8500\n",
      "Epoch 72/100\n",
      "10/10 [==============================] - 3s 288ms/step - loss: 465.8816\n",
      "Epoch 73/100\n",
      "10/10 [==============================] - 3s 278ms/step - loss: 450.1116\n",
      "Epoch 74/100\n",
      "10/10 [==============================] - 3s 293ms/step - loss: 461.2025\n",
      "Epoch 75/100\n",
      "10/10 [==============================] - 3s 283ms/step - loss: 440.8648\n",
      "Epoch 76/100\n",
      "10/10 [==============================] - 3s 285ms/step - loss: 472.5556\n",
      "Epoch 77/100\n",
      "10/10 [==============================] - 3s 276ms/step - loss: 454.0055\n",
      "Epoch 78/100\n",
      "10/10 [==============================] - 3s 280ms/step - loss: 449.8378\n",
      "Epoch 79/100\n",
      "10/10 [==============================] - 3s 281ms/step - loss: 423.4135\n",
      "Epoch 80/100\n",
      "10/10 [==============================] - 3s 281ms/step - loss: 430.2723\n",
      "Epoch 81/100\n",
      "10/10 [==============================] - 3s 283ms/step - loss: 424.2713\n",
      "Epoch 82/100\n",
      "10/10 [==============================] - 3s 281ms/step - loss: 414.6532\n",
      "Epoch 83/100\n",
      "10/10 [==============================] - 3s 285ms/step - loss: 414.8681\n",
      "Epoch 84/100\n",
      "10/10 [==============================] - 3s 278ms/step - loss: 432.1041\n",
      "Epoch 85/100\n",
      "10/10 [==============================] - 3s 280ms/step - loss: 409.0316\n",
      "Epoch 86/100\n",
      "10/10 [==============================] - 3s 283ms/step - loss: 398.1581\n",
      "Epoch 87/100\n",
      "10/10 [==============================] - 3s 274ms/step - loss: 394.4632\n",
      "Epoch 88/100\n",
      "10/10 [==============================] - 3s 276ms/step - loss: 405.8915\n",
      "Epoch 89/100\n",
      "10/10 [==============================] - 3s 278ms/step - loss: 388.1686\n",
      "Epoch 90/100\n",
      "10/10 [==============================] - 3s 280ms/step - loss: 376.3820\n",
      "Epoch 91/100\n",
      "10/10 [==============================] - 3s 286ms/step - loss: 384.2898\n",
      "Epoch 92/100\n",
      "10/10 [==============================] - 3s 278ms/step - loss: 378.9875\n",
      "Epoch 93/100\n",
      "10/10 [==============================] - 3s 278ms/step - loss: 388.2908\n",
      "Epoch 94/100\n",
      "10/10 [==============================] - 3s 273ms/step - loss: 369.6168\n",
      "Epoch 95/100\n",
      "10/10 [==============================] - 3s 281ms/step - loss: 363.9696\n",
      "Epoch 96/100\n",
      "10/10 [==============================] - 3s 278ms/step - loss: 375.4928\n",
      "Epoch 97/100\n",
      "10/10 [==============================] - 3s 276ms/step - loss: 359.5994\n",
      "Epoch 98/100\n",
      "10/10 [==============================] - 3s 285ms/step - loss: 364.6621\n",
      "Epoch 99/100\n",
      "10/10 [==============================] - 3s 280ms/step - loss: 351.8536\n",
      "Epoch 100/100\n",
      "10/10 [==============================] - 3s 274ms/step - loss: 345.9693\n",
      "CPU times: total: 13min 16s\n",
      "Wall time: 4min 44s\n"
     ]
    },
    {
     "data": {
      "image/png": "[encoded data removed]",
      "text/plain": [
       "<Figure size 700x400 with 1 Axes>"
      ]
     },
     "metadata": {},
     "output_type": "display_data"
    }
   ],
   "source": [
    "%%time\n",
    "history = pair_model.fit(train_gen, epochs=100, verbose=1)\n",
    "sg.utils.plot_history(history)"
   ]
  },
  {
   "cell_type": "code",
   "execution_count": 13,
   "id": "911c1c3b-3c3e-4662-bdb9-c3c1f4753888",
   "metadata": {},
   "outputs": [
    {
     "name": "stdout",
     "output_type": "stream",
     "text": [
      "22/22 [==============================] - 0s 7ms/step\n"
     ]
    }
   ],
   "source": [
    "# Compute embedding of graphs \n",
    "\n",
    "embeddings = embedding_model.predict(generator.flow(graphs))"
   ]
  },
  {
   "cell_type": "code",
   "execution_count": 14,
   "id": "689fc13d-4861-4dc7-9751-ec9b9ddba886",
   "metadata": {},
   "outputs": [],
   "source": [
    "datasets = adata.obs.Dataset.unique().tolist()\n",
    "adata_roi = sc.AnnData(embeddings)\n",
    "adata_roi.obs['Dataset'] = datasets\n",
    "adata_roi.obs['Core'] = [d[:2] for d in datasets]"
   ]
  },
  {
   "cell_type": "code",
   "execution_count": 15,
   "id": "c056bcc1-4fd2-42b5-83f6-3ed1d53737fc",
   "metadata": {},
   "outputs": [
    {
     "name": "stdout",
     "output_type": "stream",
     "text": [
      "computing tSNE\n",
      "WARNING: You’re trying to run this on 96 dimensions of `.X`, if you really want this, set `use_rep='X'`.\n",
      "         Falling back to preprocessing with `sc.pp.pca` and default params.\n",
      "computing PCA\n",
      "    with n_comps=21\n",
      "    finished (0:00:00)\n",
      "    using sklearn.manifold.TSNE\n",
      "    finished: added\n",
      "    'X_tsne', tSNE coordinates (adata.obsm) (0:00:00)\n"
     ]
    },
    {
     "name": "stderr",
     "output_type": "stream",
     "text": [
      "C:\\Users\\thu71\\Anaconda3\\envs\\sgraph\\lib\\site-packages\\sklearn\\manifold\\_t_sne.py:800: FutureWarning: The default initialization in TSNE will change from 'random' to 'pca' in 1.2.\n",
      "  warnings.warn(\n"
     ]
    }
   ],
   "source": [
    "sc.tl.tsne(adata_roi, perplexity=10.0)\n"
   ]
  },
  {
   "cell_type": "code",
   "execution_count": 16,
   "id": "39d469eb-52e5-4085-aba9-b56832153e72",
   "metadata": {},
   "outputs": [
    {
     "name": "stderr",
     "output_type": "stream",
     "text": [
      "C:\\Users\\thu71\\Anaconda3\\envs\\sgraph\\lib\\site-packages\\scanpy\\plotting\\_tools\\scatterplots.py:392: UserWarning: No data for colormapping provided via 'c'. Parameters 'cmap' will be ignored\n",
      "  cax = scatter(\n"
     ]
    },
    {
     "data": {
      "image/png": "[encoded data removed]",
      "text/plain": [
       "<Figure size 640x480 with 1 Axes>"
      ]
     },
     "metadata": {},
     "output_type": "display_data"
    }
   ],
   "source": [
    "sc.pl.tsne(adata_roi, color='Core', frameon=False, size=500)"
   ]
  },
  {
   "cell_type": "code",
   "execution_count": null,
   "id": "3a9230b6-08ac-4fc0-8d9d-c9833fa2b2c7",
   "metadata": {},
   "outputs": [],
   "source": []
  }
 ],
 "metadata": {
  "kernelspec": {
   "display_name": "Python [conda env:sgraph]",
   "language": "python",
   "name": "conda-env-sgraph-py"
  },
  "language_info": {
   "codemirror_mode": {
    "name": "ipython",
    "version": 3
   },
   "file_extension": ".py",
   "mimetype": "text/x-python",
   "name": "python",
   "nbconvert_exporter": "python",
   "pygments_lexer": "ipython3",
   "version": "3.8.13"
  }
 },
 "nbformat": 4,
 "nbformat_minor": 5
}
