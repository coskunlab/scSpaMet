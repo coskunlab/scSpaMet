{
 "cells": [
  {
   "cell_type": "code",
   "execution_count": 8,
   "id": "a0b11cc7-8d9f-488b-a155-1c7a30e9ec30",
   "metadata": {},
   "outputs": [],
   "source": [
    "import os\n",
    "import re\n",
    "import sys\n",
    "from pathlib import Path\n",
    "\n",
    "import matplotlib.pyplot as plt\n",
    "import numpy as np\n",
    "import pandas as pd\n",
    "import scanpy as sc\n",
    "import anndata as ad\n",
    "import seaborn as sns\n",
    "from matplotlib.pyplot import rc_context\n",
    "from tqdm.notebook import tqdm, trange\n",
    "from sklearn.preprocessing import MinMaxScaler\n",
    "sc.settings.verbosity = 3\n",
    "\n",
    "from tqdm import tqdm"
   ]
  },
  {
   "cell_type": "code",
   "execution_count": 9,
   "id": "bc85ac78-e65f-4eaa-9b11-2b5986c9cfc6",
   "metadata": {},
   "outputs": [],
   "source": [
    "p_dir = (Path().cwd().parents[0]).absolute()\n",
    "data_dir = p_dir / \"data\""
   ]
  },
  {
   "cell_type": "code",
   "execution_count": 10,
   "id": "fad110f0-7ce5-4007-a157-8445725055e1",
   "metadata": {},
   "outputs": [
    {
     "name": "stdout",
     "output_type": "stream",
     "text": [
      "The autoreload extension is already loaded. To reload it, use:\n",
      "  %reload_ext autoreload\n"
     ]
    }
   ],
   "source": [
    "%load_ext autoreload\n",
    "%autoreload 2\n",
    "\n",
    "module_path = str(p_dir / \"src\")\n",
    "\n",
    "if module_path not in sys.path:\n",
    "    sys.path.append(module_path)\n"
   ]
  },
  {
   "cell_type": "code",
   "execution_count": 11,
   "id": "d2269718-f558-4063-9800-3b8ce8fc0063",
   "metadata": {},
   "outputs": [],
   "source": [
    "import scSpaMet as spamet"
   ]
  },
  {
   "cell_type": "code",
   "execution_count": 12,
   "id": "a7767f06-47ae-4870-8846-70107caf0e39",
   "metadata": {},
   "outputs": [],
   "source": [
    "experiment = \"Tonsil\"\n",
    "adata = sc.read_h5ad(data_dir / \"adata\" / f\"{experiment}_vae.h5ad\")"
   ]
  },
  {
   "cell_type": "markdown",
   "id": "51786cf0-56ad-4391-8fef-d475556f4aa3",
   "metadata": {},
   "source": [
    "# Unsupervised graph embedding"
   ]
  },
  {
   "cell_type": "code",
   "execution_count": 13,
   "id": "54c6a7ae-cf21-4799-a6be-1a96a28118d9",
   "metadata": {},
   "outputs": [],
   "source": [
    "import stellargraph as sg\n",
    "import tensorflow as tf\n",
    "from sklearn.neighbors import NearestNeighbors\n",
    "from tensorflow import keras\n",
    "import networkx as nx\n",
    "\n",
    "def get_NN_radius(adata, r):\n",
    "    data = adata.obsm[\"spatial\"]\n",
    "    fit = NearestNeighbors(radius=r).fit(data)\n",
    "    m = fit.radius_neighbors(data, return_distance=False)\n",
    "    \n",
    "    # Put in dataframe format\n",
    "    neighbours = pd.DataFrame(m.tolist(), index = adata.obs.index)\n",
    "    return neighbours"
   ]
  },
  {
   "cell_type": "code",
   "execution_count": 14,
   "id": "0293ba43-4c9f-476e-be97-215c073dfaa4",
   "metadata": {},
   "outputs": [],
   "source": [
    "# Create nearest neighbor graph \n",
    "r = 15\n",
    "graphs = []\n",
    "\n",
    "for dataset in adata.obs.Dataset.unique():\n",
    "    adata_subset = adata[adata.obs.Dataset == dataset, :] \n",
    "    adata_subset.obs.index = adata_subset.obs.reset_index(drop=True).index\n",
    "    neighbors = get_NN_radius(adata_subset, r)\n",
    "\n",
    "    # Create edge features\n",
    "    neighbors.index = neighbors.index.set_names(['Cell'])\n",
    "    neighbors = neighbors.reset_index()\n",
    "    neighbors = neighbors.melt(id_vars='Cell', value_name='Neighbor').dropna().astype(int) \n",
    "    \n",
    "    # Create node features\n",
    "    features = pd.DataFrame(adata_subset.obsm['Joint'])\n",
    "    \n",
    "    # Create graph\n",
    "    graph = sg.StellarGraph(\n",
    "        features, \n",
    "        edges=neighbors, source_column=\"Cell\", target_column='Neighbor'\n",
    "    )\n",
    "    graphs.append(graph)"
   ]
  },
  {
   "cell_type": "code",
   "execution_count": 15,
   "id": "4dc63bbc-638e-4caf-8852-c0425edaa53d",
   "metadata": {},
   "outputs": [],
   "source": [
    "generator = sg.mapper.PaddedGraphGenerator(graphs)\n",
    "\n",
    "gc_model = sg.layer.GCNSupervisedGraphClassification(\n",
    "    [64, 32], [\"relu\", \"relu\"], generator, pool_all_layers=True\n",
    ")\n",
    "\n",
    "inp1, out1 = gc_model.in_out_tensors()\n",
    "inp2, out2 = gc_model.in_out_tensors()\n",
    "\n",
    "vec_distance = tf.norm(out1 - out2, axis=1)\n",
    "\n",
    "pair_model = keras.Model(inp1 + inp2, vec_distance)\n",
    "embedding_model = keras.Model(inp1, out1)"
   ]
  },
  {
   "cell_type": "code",
   "execution_count": 16,
   "id": "6170b8d0-74ca-4926-afe2-c34770345214",
   "metadata": {},
   "outputs": [],
   "source": [
    "def graph_distance(graph1, graph2):\n",
    "    spec1 = nx.laplacian_spectrum(graph1.to_networkx(feature_attr=None))\n",
    "    spec2 = nx.laplacian_spectrum(graph2.to_networkx(feature_attr=None))\n",
    "    k = min(len(spec1), len(spec2))\n",
    "    return np.linalg.norm(spec1[:k] - spec2[:k])"
   ]
  },
  {
   "cell_type": "code",
   "execution_count": 17,
   "id": "6a9d4f93-32c9-4dbd-b2ac-1da52ff37fe3",
   "metadata": {},
   "outputs": [
    {
     "name": "stderr",
     "output_type": "stream",
     "text": [
      "  0%|                                                             | 0/100 [00:00<?, ?it/s]<class 'networkx.utils.decorators.argmap'> compilation 4:4: FutureWarning: laplacian_matrix will return a scipy.sparse array instead of a matrix in Networkx 3.0.\n",
      "100%|███████████████████████████████████████████████████| 100/100 [03:01<00:00,  1.82s/it]\n"
     ]
    }
   ],
   "source": [
    "# Get traning examples\n",
    "graph_idx = np.random.RandomState(0).randint(len(graphs), size=(100, 2))\n",
    "targets = [graph_distance(graphs[left], graphs[right]) for left, right in  tqdm(graph_idx)]\n",
    "train_gen = generator.flow(graph_idx, batch_size=10, targets=targets)\n"
   ]
  },
  {
   "cell_type": "code",
   "execution_count": 18,
   "id": "cc605dac-695c-4e74-895a-608456eed2e8",
   "metadata": {},
   "outputs": [],
   "source": [
    "# Training \n",
    "pair_model.compile(keras.optimizers.Adam(1e-2), loss=\"mse\")"
   ]
  },
  {
   "cell_type": "code",
   "execution_count": 19,
   "id": "de7754b2-37ea-472a-add7-4ca06da8946b",
   "metadata": {
    "collapsed": true,
    "jupyter": {
     "outputs_hidden": true
    },
    "tags": []
   },
   "outputs": [
    {
     "name": "stdout",
     "output_type": "stream",
     "text": [
      "Epoch 1/100\n",
      "10/10 [==============================] - 19s 2s/step - loss: 27381.6250\n",
      "Epoch 2/100\n",
      "10/10 [==============================] - 17s 2s/step - loss: 24009.8750\n",
      "Epoch 3/100\n",
      "10/10 [==============================] - 17s 2s/step - loss: 18871.2676\n",
      "Epoch 4/100\n",
      "10/10 [==============================] - 17s 2s/step - loss: 12833.3291\n",
      "Epoch 5/100\n",
      "10/10 [==============================] - 16s 2s/step - loss: 9535.7744\n",
      "Epoch 6/100\n",
      "10/10 [==============================] - 16s 2s/step - loss: 8869.6982\n",
      "Epoch 7/100\n",
      "10/10 [==============================] - 16s 2s/step - loss: 8431.8818\n",
      "Epoch 8/100\n",
      "10/10 [==============================] - 16s 2s/step - loss: 7940.7681\n",
      "Epoch 9/100\n",
      "10/10 [==============================] - 16s 2s/step - loss: 7575.8164\n",
      "Epoch 10/100\n",
      "10/10 [==============================] - 16s 2s/step - loss: 7159.7568\n",
      "Epoch 11/100\n",
      "10/10 [==============================] - 16s 2s/step - loss: 6531.3364\n",
      "Epoch 12/100\n",
      "10/10 [==============================] - 16s 2s/step - loss: 5912.4873\n",
      "Epoch 13/100\n",
      "10/10 [==============================] - 16s 2s/step - loss: 5303.5186\n",
      "Epoch 14/100\n",
      "10/10 [==============================] - 17s 2s/step - loss: 4613.4658\n",
      "Epoch 15/100\n",
      "10/10 [==============================] - 16s 2s/step - loss: 4203.6108\n",
      "Epoch 16/100\n",
      "10/10 [==============================] - 16s 2s/step - loss: 3852.6440\n",
      "Epoch 17/100\n",
      "10/10 [==============================] - 16s 2s/step - loss: 3734.2051\n",
      "Epoch 18/100\n",
      "10/10 [==============================] - 16s 2s/step - loss: 3671.8413\n",
      "Epoch 19/100\n",
      "10/10 [==============================] - 16s 2s/step - loss: 3639.6516\n",
      "Epoch 20/100\n",
      "10/10 [==============================] - 16s 2s/step - loss: 3616.2476\n",
      "Epoch 21/100\n",
      "10/10 [==============================] - 16s 2s/step - loss: 3586.2520\n",
      "Epoch 22/100\n",
      "10/10 [==============================] - 16s 2s/step - loss: 3587.3291\n",
      "Epoch 23/100\n",
      "10/10 [==============================] - 16s 2s/step - loss: 3553.5623\n",
      "Epoch 24/100\n",
      "10/10 [==============================] - 16s 2s/step - loss: 3555.0471\n",
      "Epoch 25/100\n",
      "10/10 [==============================] - 16s 2s/step - loss: 3532.3062\n",
      "Epoch 26/100\n",
      "10/10 [==============================] - 16s 2s/step - loss: 3508.8638\n",
      "Epoch 27/100\n",
      "10/10 [==============================] - 16s 2s/step - loss: 3490.3071\n",
      "Epoch 28/100\n",
      "10/10 [==============================] - 16s 2s/step - loss: 3491.8503\n",
      "Epoch 29/100\n",
      "10/10 [==============================] - 16s 2s/step - loss: 3460.7737\n",
      "Epoch 30/100\n",
      "10/10 [==============================] - 16s 2s/step - loss: 3468.5667\n",
      "Epoch 31/100\n",
      "10/10 [==============================] - 16s 2s/step - loss: 3462.0903\n",
      "Epoch 32/100\n",
      "10/10 [==============================] - 16s 2s/step - loss: 3454.5225\n",
      "Epoch 33/100\n",
      "10/10 [==============================] - 17s 2s/step - loss: 3422.0002\n",
      "Epoch 34/100\n",
      "10/10 [==============================] - 16s 2s/step - loss: 3423.7766\n",
      "Epoch 35/100\n",
      "10/10 [==============================] - 16s 2s/step - loss: 3430.7075\n",
      "Epoch 36/100\n",
      "10/10 [==============================] - 16s 2s/step - loss: 3405.2000\n",
      "Epoch 37/100\n",
      "10/10 [==============================] - 16s 2s/step - loss: 3414.5908\n",
      "Epoch 38/100\n",
      "10/10 [==============================] - 16s 2s/step - loss: 3397.2466\n",
      "Epoch 39/100\n",
      "10/10 [==============================] - 16s 2s/step - loss: 3400.5393\n",
      "Epoch 40/100\n",
      "10/10 [==============================] - 16s 2s/step - loss: 3365.4446\n",
      "Epoch 41/100\n",
      "10/10 [==============================] - 16s 2s/step - loss: 3370.4702\n",
      "Epoch 42/100\n",
      "10/10 [==============================] - 16s 2s/step - loss: 3365.5505\n",
      "Epoch 43/100\n",
      "10/10 [==============================] - 16s 2s/step - loss: 3354.0422\n",
      "Epoch 44/100\n",
      "10/10 [==============================] - 16s 2s/step - loss: 3333.9253\n",
      "Epoch 45/100\n",
      "10/10 [==============================] - 16s 2s/step - loss: 3345.5325\n",
      "Epoch 46/100\n",
      "10/10 [==============================] - 16s 2s/step - loss: 3315.7017\n",
      "Epoch 47/100\n",
      "10/10 [==============================] - 16s 2s/step - loss: 3295.8728\n",
      "Epoch 48/100\n",
      "10/10 [==============================] - 16s 2s/step - loss: 3292.0034\n",
      "Epoch 49/100\n",
      "10/10 [==============================] - 16s 2s/step - loss: 3281.4812\n",
      "Epoch 50/100\n",
      "10/10 [==============================] - 16s 2s/step - loss: 3262.9473\n",
      "Epoch 51/100\n",
      "10/10 [==============================] - 16s 2s/step - loss: 3249.2097\n",
      "Epoch 52/100\n",
      "10/10 [==============================] - 16s 2s/step - loss: 3252.0110\n",
      "Epoch 53/100\n",
      "10/10 [==============================] - 16s 2s/step - loss: 3242.5220\n",
      "Epoch 54/100\n",
      "10/10 [==============================] - 16s 2s/step - loss: 3228.3508\n",
      "Epoch 55/100\n",
      "10/10 [==============================] - 16s 2s/step - loss: 3198.1917\n",
      "Epoch 56/100\n",
      "10/10 [==============================] - 16s 2s/step - loss: 3183.0068\n",
      "Epoch 57/100\n",
      "10/10 [==============================] - 16s 2s/step - loss: 3189.1514\n",
      "Epoch 58/100\n",
      "10/10 [==============================] - 16s 2s/step - loss: 3153.7544\n",
      "Epoch 59/100\n",
      "10/10 [==============================] - 16s 2s/step - loss: 3149.8872\n",
      "Epoch 60/100\n",
      "10/10 [==============================] - 16s 2s/step - loss: 3146.3743\n",
      "Epoch 61/100\n",
      "10/10 [==============================] - 16s 2s/step - loss: 3152.0342\n",
      "Epoch 62/100\n",
      "10/10 [==============================] - 16s 2s/step - loss: 3112.3965\n",
      "Epoch 63/100\n",
      "10/10 [==============================] - 16s 2s/step - loss: 3099.8560\n",
      "Epoch 64/100\n",
      "10/10 [==============================] - 16s 2s/step - loss: 3138.0625\n",
      "Epoch 65/100\n",
      "10/10 [==============================] - 16s 2s/step - loss: 3091.9165\n",
      "Epoch 66/100\n",
      "10/10 [==============================] - 16s 2s/step - loss: 3057.9509\n",
      "Epoch 67/100\n",
      "10/10 [==============================] - 16s 2s/step - loss: 3051.1577\n",
      "Epoch 68/100\n",
      "10/10 [==============================] - 16s 2s/step - loss: 3029.2666\n",
      "Epoch 69/100\n",
      "10/10 [==============================] - 16s 2s/step - loss: 3024.3564\n",
      "Epoch 70/100\n",
      "10/10 [==============================] - 16s 2s/step - loss: 2973.8169\n",
      "Epoch 71/100\n",
      "10/10 [==============================] - 16s 2s/step - loss: 2967.9946\n",
      "Epoch 72/100\n",
      "10/10 [==============================] - 16s 2s/step - loss: 2929.8740\n",
      "Epoch 73/100\n",
      "10/10 [==============================] - 16s 2s/step - loss: 2925.2632\n",
      "Epoch 74/100\n",
      "10/10 [==============================] - 16s 2s/step - loss: 2901.7041\n",
      "Epoch 75/100\n",
      "10/10 [==============================] - 16s 2s/step - loss: 2883.9016\n",
      "Epoch 76/100\n",
      "10/10 [==============================] - 16s 2s/step - loss: 2841.7029\n",
      "Epoch 77/100\n",
      "10/10 [==============================] - 16s 2s/step - loss: 2801.1460\n",
      "Epoch 78/100\n",
      "10/10 [==============================] - 16s 2s/step - loss: 2794.0710\n",
      "Epoch 79/100\n",
      "10/10 [==============================] - 16s 2s/step - loss: 2742.3679\n",
      "Epoch 80/100\n",
      "10/10 [==============================] - 16s 2s/step - loss: 2724.5469\n",
      "Epoch 81/100\n",
      "10/10 [==============================] - 16s 2s/step - loss: 2681.9976\n",
      "Epoch 82/100\n",
      "10/10 [==============================] - 16s 2s/step - loss: 2650.8435\n",
      "Epoch 83/100\n",
      "10/10 [==============================] - 16s 2s/step - loss: 2596.8159\n",
      "Epoch 84/100\n",
      "10/10 [==============================] - 16s 2s/step - loss: 2534.9734\n",
      "Epoch 85/100\n",
      "10/10 [==============================] - 16s 2s/step - loss: 2493.4507\n",
      "Epoch 86/100\n",
      "10/10 [==============================] - 16s 2s/step - loss: 2429.7219\n",
      "Epoch 87/100\n",
      "10/10 [==============================] - 16s 2s/step - loss: 2384.7747\n",
      "Epoch 88/100\n",
      "10/10 [==============================] - 16s 2s/step - loss: 2311.2358\n",
      "Epoch 89/100\n",
      "10/10 [==============================] - 16s 2s/step - loss: 2256.4624\n",
      "Epoch 90/100\n",
      "10/10 [==============================] - 16s 2s/step - loss: 2212.6782\n",
      "Epoch 91/100\n",
      "10/10 [==============================] - 16s 2s/step - loss: 2153.3503\n",
      "Epoch 92/100\n",
      "10/10 [==============================] - 16s 2s/step - loss: 2018.8080\n",
      "Epoch 93/100\n",
      "10/10 [==============================] - 17s 2s/step - loss: 1986.0101\n",
      "Epoch 94/100\n",
      "10/10 [==============================] - 16s 2s/step - loss: 1875.6139\n",
      "Epoch 95/100\n",
      "10/10 [==============================] - 16s 2s/step - loss: 1793.1826\n",
      "Epoch 96/100\n",
      "10/10 [==============================] - 16s 2s/step - loss: 1705.1831\n",
      "Epoch 97/100\n",
      "10/10 [==============================] - 16s 2s/step - loss: 1617.5759\n",
      "Epoch 98/100\n",
      "10/10 [==============================] - 16s 2s/step - loss: 1565.8593\n",
      "Epoch 99/100\n",
      "10/10 [==============================] - 16s 2s/step - loss: 1467.9923\n",
      "Epoch 100/100\n",
      "10/10 [==============================] - 16s 2s/step - loss: 1447.9967\n",
      "CPU times: total: 1h 15s\n",
      "Wall time: 26min 39s\n"
     ]
    },
    {
     "data": {
      "image/png": "[encoded data removed]",
      "text/plain": [
       "<Figure size 700x400 with 1 Axes>"
      ]
     },
     "metadata": {},
     "output_type": "display_data"
    }
   ],
   "source": [
    "%%time\n",
    "history = pair_model.fit(train_gen, epochs=100, verbose=1)\n",
    "sg.utils.plot_history(history)"
   ]
  },
  {
   "cell_type": "code",
   "execution_count": 20,
   "id": "911c1c3b-3c3e-4662-bdb9-c3c1f4753888",
   "metadata": {},
   "outputs": [
    {
     "name": "stdout",
     "output_type": "stream",
     "text": [
      "11/11 [==============================] - 1s 52ms/step\n"
     ]
    }
   ],
   "source": [
    "# Compute embedding of graphs \n",
    "\n",
    "embeddings = embedding_model.predict(generator.flow(graphs))"
   ]
  },
  {
   "cell_type": "code",
   "execution_count": 21,
   "id": "689fc13d-4861-4dc7-9751-ec9b9ddba886",
   "metadata": {},
   "outputs": [],
   "source": [
    "datasets = adata.obs.Dataset.unique().tolist()\n",
    "adata_roi = sc.AnnData(embeddings)\n",
    "adata_roi.obs['Dataset'] = datasets\n",
    "adata_roi.obs['Core'] = [d[:-2] for d in datasets]"
   ]
  },
  {
   "cell_type": "code",
   "execution_count": 22,
   "id": "c056bcc1-4fd2-42b5-83f6-3ed1d53737fc",
   "metadata": {},
   "outputs": [
    {
     "name": "stdout",
     "output_type": "stream",
     "text": [
      "computing tSNE\n",
      "WARNING: You’re trying to run this on 96 dimensions of `.X`, if you really want this, set `use_rep='X'`.\n",
      "         Falling back to preprocessing with `sc.pp.pca` and default params.\n",
      "computing PCA\n",
      "    with n_comps=10\n",
      "    finished\n",
      "    using sklearn.manifold.TSNE\n",
      "    finished: added\n",
      "    'X_tsne', tSNE coordinates (adata.obsm) (0:00:00)\n"
     ]
    },
    {
     "name": "stderr",
     "output_type": "stream",
     "text": [
      "C:\\Users\\thu71\\Anaconda3\\envs\\sgraph\\lib\\site-packages\\sklearn\\manifold\\_t_sne.py:800: FutureWarning: The default initialization in TSNE will change from 'random' to 'pca' in 1.2.\n",
      "  warnings.warn(\n"
     ]
    }
   ],
   "source": [
    "sc.tl.tsne(adata_roi, perplexity=10.0)\n"
   ]
  },
  {
   "cell_type": "code",
   "execution_count": 23,
   "id": "f31ac2cb-cc72-4bb5-8edb-0177d462a5fc",
   "metadata": {},
   "outputs": [],
   "source": [
    "adata_roi.obs['Core'] = [d[:-2] for d in datasets]"
   ]
  },
  {
   "cell_type": "code",
   "execution_count": 25,
   "id": "39d469eb-52e5-4085-aba9-b56832153e72",
   "metadata": {},
   "outputs": [
    {
     "name": "stderr",
     "output_type": "stream",
     "text": [
      "C:\\Users\\thu71\\Anaconda3\\envs\\sgraph\\lib\\site-packages\\scanpy\\plotting\\_tools\\scatterplots.py:392: UserWarning: No data for colormapping provided via 'c'. Parameters 'cmap' will be ignored\n",
      "  cax = scatter(\n"
     ]
    },
    {
     "data": {
      "image/png": "[encoded data removed]",
      "text/plain": [
       "<Figure size 640x480 with 1 Axes>"
      ]
     },
     "metadata": {},
     "output_type": "display_data"
    }
   ],
   "source": [
    "sc.pl.tsne(adata_roi, color='Core', frameon=False, size=1000)"
   ]
  },
  {
   "cell_type": "code",
   "execution_count": null,
   "id": "3a9230b6-08ac-4fc0-8d9d-c9833fa2b2c7",
   "metadata": {},
   "outputs": [],
   "source": []
  }
 ],
 "metadata": {
  "kernelspec": {
   "display_name": "Python [conda env:sgraph]",
   "language": "python",
   "name": "conda-env-sgraph-py"
  },
  "language_info": {
   "codemirror_mode": {
    "name": "ipython",
    "version": 3
   },
   "file_extension": ".py",
   "mimetype": "text/x-python",
   "name": "python",
   "nbconvert_exporter": "python",
   "pygments_lexer": "ipython3",
   "version": "3.8.13"
  }
 },
 "nbformat": 4,
 "nbformat_minor": 5
}
