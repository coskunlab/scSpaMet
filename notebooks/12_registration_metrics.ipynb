{
 "cells": [
  {
   "cell_type": "code",
   "execution_count": 1,
   "id": "ffb1a6ff-d052-4519-98e0-15bbe942c638",
   "metadata": {
    "ExecuteTime": {
     "end_time": "2021-10-07T22:51:05.895227Z",
     "start_time": "2021-10-07T22:51:05.623223Z"
    }
   },
   "outputs": [],
   "source": [
    "import os\n",
    "import sys\n",
    "from pathlib import Path\n",
    "\n",
    "import cv2 as cv\n",
    "import h5py\n",
    "import matplotlib.pyplot as plt\n",
    "import numpy as np\n",
    "import pandas as pd\n",
    "import skimage\n",
    "from joblib import Parallel, delayed\n",
    "from skimage import exposure, io, metrics\n",
    "from skimage.util import img_as_ubyte\n",
    "from tqdm.notebook import tqdm, trange\n",
    "import cv2\n",
    "import seaborn as sns"
   ]
  },
  {
   "cell_type": "code",
   "execution_count": 2,
   "id": "d15e4ac0-aff4-4760-93f9-382cfa16795b",
   "metadata": {
    "ExecuteTime": {
     "end_time": "2021-10-07T22:51:06.502321Z",
     "start_time": "2021-10-07T22:51:06.237304Z"
    }
   },
   "outputs": [],
   "source": [
    "p_dir = (Path().cwd().parents[0]).absolute()\n",
    "data_dir = p_dir / \"data\"\n",
    "match_info_dir = data_dir / \"match\""
   ]
  },
  {
   "cell_type": "code",
   "execution_count": 3,
   "id": "c89d5ab7-ff5e-4840-b4c9-16c50efe5d93",
   "metadata": {
    "ExecuteTime": {
     "end_time": "2021-10-07T22:51:07.107319Z",
     "start_time": "2021-10-07T22:51:06.806318Z"
    }
   },
   "outputs": [],
   "source": [
    "%load_ext autoreload\n",
    "%autoreload 2\n",
    "\n",
    "module_path = str(p_dir / \"src\")\n",
    "\n",
    "if module_path not in sys.path:\n",
    "    sys.path.append(module_path)\n",
    "\n",
    "import utils as my_utils\n",
    "import transform "
   ]
  },
  {
   "cell_type": "code",
   "execution_count": 4,
   "id": "5c7c9c88-6621-4881-9ad5-4e23537aed79",
   "metadata": {
    "ExecuteTime": {
     "end_time": "2021-10-07T22:54:54.116566Z",
     "start_time": "2021-10-07T22:54:53.822565Z"
    }
   },
   "outputs": [],
   "source": [
    "experiment = \"Lung\"\n",
    "cores = [\"B5\", 'C6', 'D4', 'E4', 'E6', 'F4', 'F7']\n",
    "datasets = [\"_1\", \"_2\", \"_3\",\"_4\"]"
   ]
  },
  {
   "cell_type": "markdown",
   "id": "ad4c2700-06e8-470b-85e9-bb0f718ce289",
   "metadata": {
    "tags": []
   },
   "source": [
    "# Get images"
   ]
  },
  {
   "cell_type": "code",
   "execution_count": 5,
   "id": "4579be12-4c10-48f5-85c7-f5ce6f0afc38",
   "metadata": {
    "tags": []
   },
   "outputs": [],
   "source": [
    "from typing import List\n",
    "from skimage import measure\n",
    "from skimage.transform import resize\n",
    "from sklearn.neighbors import NearestNeighbors\n",
    "from functools import partial\n",
    "import matplotlib.patches as mpatches\n",
    "from skimage.segmentation import mark_boundaries\n",
    "from skimage.transform import rotate\n",
    "from skimage.filters import threshold_otsu\n",
    "import matplotlib.offsetbox\n",
    "from matplotlib.lines import Line2D\n",
    "\n",
    "h5_data_dir = p_dir / \"data\" / \"h5\"\n",
    "\n",
    "class AnchoredHScaleBar(matplotlib.offsetbox.AnchoredOffsetbox):\n",
    "    \"\"\" size: length of bar in data units\n",
    "        extent : height of bar ends in axes units \"\"\"\n",
    "    def __init__(self, size=1, extent = 0.03, label=\"\", loc=2, ax=None,\n",
    "                 pad=0.4, borderpad=0.5, ppad = 0, sep=2, prop=None, \n",
    "                 frameon=True, linekw={}, textprops={}, **kwargs):\n",
    "        if not ax:\n",
    "            ax = plt.gca()\n",
    "        trans = ax.get_xaxis_transform()\n",
    "        size_bar = matplotlib.offsetbox.AuxTransformBox(trans)\n",
    "        line = Line2D([0,size],[0,0], **linekw)\n",
    "        vline1 = Line2D([0,0],[-extent/2.,extent/2.], **linekw)\n",
    "        vline2 = Line2D([size,size],[-extent/2.,extent/2.], **linekw)\n",
    "        size_bar.add_artist(line)\n",
    "        size_bar.add_artist(vline1)\n",
    "        size_bar.add_artist(vline2)\n",
    "        txt = matplotlib.offsetbox.TextArea(label, minimumdescent=False, textprops=textprops)\n",
    "        self.vpac = matplotlib.offsetbox.VPacker(children=[size_bar,txt],  \n",
    "                                 align=\"center\", pad=ppad, sep=sep) \n",
    "        matplotlib.offsetbox.AnchoredOffsetbox.__init__(self, loc, pad=pad, \n",
    "                 borderpad=borderpad, child=self.vpac, prop=prop, frameon=frameon,\n",
    "                 **kwargs)\n",
    "\n",
    "def get_imgs(experiment, name):\n",
    "    with h5py.File(h5_data_dir / f\"{experiment}.hdf5\", \"r\") as f:\n",
    "        imgs = f[name][:]\n",
    "        labels = list(f[name].attrs[\"markers\"])\n",
    "    return imgs, labels\n",
    "\n",
    "\n",
    "def contrast_stretching(img, n_min=30, n_max=100):\n",
    "    # Contrast stretching\n",
    "    p2, p98 = np.percentile(img, (n_min, n_max))\n",
    "    img_rescale = exposure.rescale_intensity(\n",
    "        img, in_range=(p2, p98), out_range=(0, 255)\n",
    "    ).astype(np.uint8)\n",
    "    return img_rescale\n",
    "\n",
    "def crop_img(img, info):\n",
    "    # Rotate img\n",
    "    y, h_region, x, w_region = info[\"bbox\"]\n",
    "    rotation = info[\"rotation_init\"]\n",
    "    rotation_small = info[\"rotation_adjust\"]\n",
    "    border = info[\"border\"]\n",
    "\n",
    "    img = rotate(img, rotation, resize=True)\n",
    "    img = cv2.copyMakeBorder(\n",
    "        img, border, border, border, border, cv2.BORDER_CONSTANT, None, value=0\n",
    "    )\n",
    "        \n",
    "    # Get region for img\n",
    "    if \"img_region\" in info.keys():\n",
    "        row_min, row_max, col_min, col_max = info[\"img_region\"]\n",
    "        img = img[row_min:row_max, col_min:col_max]\n",
    "        img = rotate(img, rotation_small, resize=True)\n",
    "        \n",
    "    if \"affine\" in info.keys():\n",
    "        aff = info[\"affine\"]\n",
    "        pad = info[\"pad\"]\n",
    "        y = y - pad\n",
    "        h_region = h_region + 2*pad\n",
    "        x = x - pad\n",
    "        w_region = w_region + 2*pad\n",
    "        y = 0 if y < 0 else y\n",
    "        x = 0 if x < 0 else x\n",
    "        img_aff = img[y : y + h_region, x : x + w_region]\n",
    "        img = transform.apply_global_affine(img_aff, img_aff, aff)\n",
    "        y, h_region, x, w_region = info[\"bbox_aff\"]\n",
    "        \n",
    "    img = img[y : y + h_region, x : x + w_region]\n",
    "    img = contrast_stretching(img)\n",
    "    img = img_as_ubyte(img)\n",
    "    return img\n",
    "\n",
    "def crop_img2(img, info):\n",
    "    # Rotate img\n",
    "    y, h_region, x, w_region = info[\"bbox\"]\n",
    "    rotation = info[\"rotation_init\"]\n",
    "    rotation_small = info[\"rotation_adjust\"]\n",
    "    border = info[\"border\"]\n",
    "\n",
    "    img = rotate(img, rotation, resize=True)\n",
    "    img = cv2.copyMakeBorder(\n",
    "        img, border, border, border, border, cv2.BORDER_CONSTANT, None, value=0\n",
    "    )\n",
    "        \n",
    "    # Get region for img\n",
    "    if \"img_region\" in info.keys():\n",
    "        row_min, row_max, col_min, col_max = info[\"img_region\"]\n",
    "        img = img[row_min:row_max, col_min:col_max]\n",
    "        img = rotate(img, rotation_small, resize=True)\n",
    "        \n",
    "    img = img[y : y + h_region, x : x + w_region]\n",
    "    img = contrast_stretching(img)\n",
    "    img = img_as_ubyte(img)\n",
    "    return img\n",
    "\n",
    "def crop_img3(img, info):\n",
    "    # Rotate img\n",
    "    y, h_region, x, w_region = info[\"bbox\"]\n",
    "    rotation = 0\n",
    "    rotation_small = 0\n",
    "    border = info[\"border\"]\n",
    "\n",
    "    img = rotate(img, rotation, resize=True)\n",
    "    img = cv2.copyMakeBorder(\n",
    "        img, border, border, border, border, cv2.BORDER_CONSTANT, None, value=0\n",
    "    )\n",
    "        \n",
    "    # Get region for img\n",
    "    if \"img_region\" in info.keys():\n",
    "        row_min, row_max, col_min, col_max = info[\"img_region\"]\n",
    "        img = img[row_min:row_max, col_min:col_max]\n",
    "        img = rotate(img, rotation_small, resize=True)\n",
    "        \n",
    "    img = img[200 : 200+h_region, 200 : 200+w_region]\n",
    "    img = contrast_stretching(img)\n",
    "    img = img_as_ubyte(img)\n",
    "    return img\n",
    "\n",
    "def joblib_loop(task, pics):\n",
    "    return Parallel(n_jobs=20)(delayed(task)(i) for i in pics)\n",
    "\n",
    "# Read mask image\n",
    "def get_masks(mask_folder, dataset):\n",
    "    \"\"\"\n",
    "    Function to get all mask from mask forlder\n",
    "    \"\"\"\n",
    "    # Read masks\n",
    "    masks = {}\n",
    "\n",
    "    for (dirpath, dirnames, filenames) in os.walk(mask_folder):\n",
    "        for name in sorted(filenames):\n",
    "            if \"tif\" in name and dataset in name:\n",
    "                filename = os.path.join(dirpath, name)\n",
    "                img = skimage.io.imread(filename)\n",
    "                condition = name.split(\".\")[0]\n",
    "                masks[condition] = img\n",
    "            else:\n",
    "                continue\n",
    "    return masks\n",
    "\n",
    "def get_contour(mask: np.ndarray) -> List[List[float]]:\n",
    "    \"\"\"\n",
    "    Get contours of mask\n",
    "    \"\"\"\n",
    "    contours = []\n",
    "    for i in sorted(np.unique(mask)):\n",
    "        if i == 0:\n",
    "            continue\n",
    "        contours.append(measure.find_contours(mask == i, 0.8)[0])\n",
    "\n",
    "    return contours\n",
    "\n",
    "def get_imgs_sims(experiment, name):\n",
    "    with h5py.File(h5_data_dir / f\"{experiment}.hdf5\", \"r\") as f:\n",
    "        imgs = f[name][:]\n",
    "        labels = list(f[name].attrs[\"labels\"])\n",
    "    return imgs, labels\n",
    "\n",
    "\n",
    "def get_imgs_index(imgs, index_list, fov_dim):\n",
    "\n",
    "    imgs_subset = imgs[index_list, :, :]\n",
    "    img_combined = np.sum(imgs_subset, axis=0)\n",
    "    img_downscale = resize(img_combined, (fov_dim, fov_dim), anti_aliasing=False)\n",
    "    return img_downscale"
   ]
  },
  {
   "cell_type": "code",
   "execution_count": 6,
   "id": "7f4fa012-eaff-4200-ad5b-095a00867b30",
   "metadata": {
    "tags": []
   },
   "outputs": [
    {
     "name": "stdout",
     "output_type": "stream",
     "text": [
      "Working on B5\n",
      "Working on C6\n",
      "Working on D4\n",
      "Working on E4\n",
      "Working on E6\n",
      "Working on F4\n",
      "Working on F7\n"
     ]
    }
   ],
   "source": [
    "subset = [\"HistoneH3\"]\n",
    "struc_similarity1 = []\n",
    "struc_similarity2 = []\n",
    "struc_similarity3 = []\n",
    "\n",
    "h_distance1 = []\n",
    "h_distance2 = []\n",
    "h_distance3 = []\n",
    "\n",
    "for c in cores:\n",
    "    print(f\"Working on {c}\")\n",
    "    for d in datasets:\n",
    "        dataset = c+d\n",
    "        imgs_imc, markers = get_imgs(f\"{experiment} {c}\", \"IMC\")\n",
    "        \n",
    "        try:\n",
    "            info = my_utils.load_pkl(match_info_dir / f\"{experiment}_{dataset}.pickle\")\n",
    "        except:\n",
    "            continue\n",
    "\n",
    "        # ---- Load IMC image\n",
    "        imgs_imc_stack = np.stack(imgs_imc)\n",
    "        img_dapi = np.sum(imgs_imc_stack[[markers.index(marker) for marker in subset]], axis=0)\n",
    "        img_dapi = contrast_stretching(img_dapi, n_min=2, n_max=95)\n",
    "        img1 = crop_img(img_dapi, info) # with rotation and affine\n",
    "        img2 = crop_img2(img_dapi, info) # Only rotation\n",
    "        img3 = crop_img3(img_dapi, info)\n",
    "        \n",
    "\n",
    "        # ---- Load SIMS images\n",
    "        imgs, labels = get_imgs_sims(experiment, dataset)\n",
    "        # Read nulcie channel\n",
    "        img_nuclei_downscale = get_imgs_index(imgs, [18, 32], fov_dim=img1.shape[0])\n",
    "        # Contrast streching\n",
    "        p2, p98 = np.percentile(img_nuclei_downscale, (10, 99.9))\n",
    "        img_nuclei_downscale = exposure.rescale_intensity(\n",
    "            img_nuclei_downscale, in_range=(p2, p98), out_range=(0, 255)\n",
    "        )\n",
    "        img_nuclei_downscale = img_nuclei_downscale.astype(np.uint8)\n",
    "    \n",
    "        struc_similarity1.append(metrics.structural_similarity(img1, img_nuclei_downscale))\n",
    "        struc_similarity2.append(metrics.structural_similarity(img2, img_nuclei_downscale))\n",
    "        struc_similarity3.append(metrics.structural_similarity(img3, img_nuclei_downscale))\n",
    "        h_distance1.append(metrics.normalized_root_mse(img1, img_nuclei_downscale))\n",
    "        h_distance2.append(metrics.normalized_root_mse(img2, img_nuclei_downscale))\n",
    "        h_distance3.append(metrics.normalized_root_mse(img3, img_nuclei_downscale))\n",
    "        \n",
    "#         fig, ax = plt.subplots(figsize=(7,7))\n",
    "#         ax.imshow(img1, cmap='gray')\n",
    "#         ax.axis('off')\n",
    "#         fig, ax = plt.subplots(figsize=(7,7))\n",
    "#         ax.imshow(img2, cmap='gray')\n",
    "#         ax.axis('off')\n",
    "#         fig, ax = plt.subplots(figsize=(7,7))\n",
    "#         ax.imshow(img3, cmap='gray')\n",
    "#         ax.axis('off')\n",
    "#         fig, ax = plt.subplots(figsize=(7,7))\n",
    "#         ax.imshow(img_nuclei_downscale, cmap='hot')\n",
    "#         ax.axis('off')"
   ]
  },
  {
   "cell_type": "code",
   "execution_count": 7,
   "id": "a04f618c-13fb-4beb-a231-6e98c77a8fdb",
   "metadata": {},
   "outputs": [],
   "source": [
    "from statannotations.Annotator import Annotator\n"
   ]
  },
  {
   "cell_type": "code",
   "execution_count": 8,
   "id": "cb78b8cd-2b46-4844-a0d6-d4ab940590a5",
   "metadata": {},
   "outputs": [],
   "source": [
    "df = pd.DataFrame({'Affine': struc_similarity1, 'Rotation': struc_similarity2, 'Random': struc_similarity3})\n",
    "df = df.melt(var_name='Registration Type', value_name='Structure Similarity')"
   ]
  },
  {
   "cell_type": "code",
   "execution_count": 13,
   "id": "1bc6579f-fc8d-454d-a587-42aaf6bb480f",
   "metadata": {},
   "outputs": [],
   "source": [
    "df.to_clipboard()"
   ]
  },
  {
   "cell_type": "code",
   "execution_count": 9,
   "id": "1a8e8e3f-edcf-48de-9703-27d33412ab8d",
   "metadata": {},
   "outputs": [
    {
     "name": "stdout",
     "output_type": "stream",
     "text": [
      "p-value annotation legend:\n",
      "      ns: p <= 1.00e+00\n",
      "       *: 1.00e-02 < p <= 5.00e-02\n",
      "      **: 1.00e-03 < p <= 1.00e-02\n",
      "     ***: 1.00e-04 < p <= 1.00e-03\n",
      "    ****: p <= 1.00e-04\n",
      "\n",
      "Affine vs. Rotation: Mann-Whitney-Wilcoxon test two-sided with Bonferroni correction, P_val:3.458e-04 U_stat=4.755e+02\n",
      "Rotation vs. Random: Mann-Whitney-Wilcoxon test two-sided with Bonferroni correction, P_val:1.514e-08 U_stat=5.720e+02\n",
      "Affine vs. Random: Mann-Whitney-Wilcoxon test two-sided with Bonferroni correction, P_val:9.191e-09 U_stat=5.760e+02\n"
     ]
    },
    {
     "data": {
      "text/plain": [
       "(array([0, 1, 2]),\n",
       " [Text(0, 0, 'Affine'), Text(1, 0, 'Rotation'), Text(2, 0, 'Random')])"
      ]
     },
     "execution_count": 9,
     "metadata": {},
     "output_type": "execute_result"
    },
    {
     "data": {
      "image/png": "[encoded data removed]",
      "text/plain": [
       "<Figure size 288x504 with 1 Axes>"
      ]
     },
     "metadata": {
      "needs_background": "light"
     },
     "output_type": "display_data"
    }
   ],
   "source": [
    "sns.set_context(\"talk\", font_scale=1.25)\n",
    "\n",
    "PROPS = {\n",
    "    'boxprops':{'facecolor':'none', 'edgecolor':'k'},\n",
    "    'medianprops':{'color':'r'},\n",
    "    'whiskerprops':{'color':'k'},\n",
    "    'capprops':{'color':'k'}\n",
    "}\n",
    "\n",
    "fig, ax = plt.subplots(figsize=(4,7))\n",
    "sns.boxplot(data=df, x='Registration Type', y='Structure Similarity', ax=ax, showfliers=False,**PROPS)\n",
    "\n",
    "pairs=[(\"Affine\", \"Rotation\"), (\"Affine\", \"Random\"), (\"Rotation\", \"Random\")]\n",
    "\n",
    "annotator = Annotator(ax, pairs, data=df, x='Registration Type', y='Structure Similarity')\n",
    "annotator.configure(test='Mann-Whitney', comparisons_correction=\"Bonferroni\", text_format='star', loc='inside')\n",
    "annotator.apply_and_annotate()\n",
    "\n",
    "plt.xticks(rotation = 20, ha='right')"
   ]
  },
  {
   "cell_type": "code",
   "execution_count": 10,
   "id": "f784a277-307b-4a3e-9c33-41e98919d061",
   "metadata": {},
   "outputs": [],
   "source": [
    "df = pd.DataFrame({'Affine': h_distance1, 'Rotation': h_distance2, 'Random': h_distance3})\n",
    "df = df.melt(var_name='Registration Type', value_name='Normalized Root Mean Square Error')"
   ]
  },
  {
   "cell_type": "code",
   "execution_count": 11,
   "id": "4646caf7-e5a0-4380-b406-2f5efd6d8a97",
   "metadata": {},
   "outputs": [
    {
     "name": "stdout",
     "output_type": "stream",
     "text": [
      "p-value annotation legend:\n",
      "      ns: p <= 1.00e+00\n",
      "       *: 1.00e-02 < p <= 5.00e-02\n",
      "      **: 1.00e-03 < p <= 1.00e-02\n",
      "     ***: 1.00e-04 < p <= 1.00e-03\n",
      "    ****: p <= 1.00e-04\n",
      "\n",
      "Affine vs. Rotation: Mann-Whitney-Wilcoxon test two-sided with Bonferroni correction, P_val:5.168e-03 U_stat=1.355e+02\n",
      "Rotation vs. Random: Mann-Whitney-Wilcoxon test two-sided with Bonferroni correction, P_val:4.423e-06 U_stat=5.400e+01\n",
      "Affine vs. Random: Mann-Whitney-Wilcoxon test two-sided with Bonferroni correction, P_val:1.171e-07 U_stat=2.100e+01\n"
     ]
    },
    {
     "data": {
      "text/plain": [
       "(array([0, 1, 2]),\n",
       " [Text(0, 0, 'Affine'), Text(1, 0, 'Rotation'), Text(2, 0, 'Random')])"
      ]
     },
     "execution_count": 11,
     "metadata": {},
     "output_type": "execute_result"
    },
    {
     "data": {
      "image/png": "[encoded data removed]",
      "text/plain": [
       "<Figure size 288x504 with 1 Axes>"
      ]
     },
     "metadata": {
      "needs_background": "light"
     },
     "output_type": "display_data"
    }
   ],
   "source": [
    "sns.set_context(\"talk\", font_scale=1.25)\n",
    "\n",
    "PROPS = {\n",
    "    'boxprops':{'facecolor':'none', 'edgecolor':'k'},\n",
    "    'medianprops':{'color':'r'},\n",
    "    'whiskerprops':{'color':'k'},\n",
    "    'capprops':{'color':'k'}\n",
    "}\n",
    "\n",
    "fig, ax = plt.subplots(figsize=(4,7))\n",
    "sns.boxplot(data=df, x='Registration Type', y='Normalized Root Mean Square Error', ax=ax, showfliers=False,**PROPS)\n",
    "\n",
    "pairs=[(\"Affine\", \"Rotation\"), (\"Affine\", \"Random\"), (\"Rotation\", \"Random\")]\n",
    "\n",
    "annotator = Annotator(ax, pairs, data=df, x='Registration Type', y='Normalized Root Mean Square Error')\n",
    "annotator.configure(test='Mann-Whitney', comparisons_correction=\"Bonferroni\", text_format='star', loc='inside')\n",
    "annotator.apply_and_annotate()\n",
    "\n",
    "plt.xticks(rotation = 20, ha='right')"
   ]
  },
  {
   "cell_type": "code",
   "execution_count": null,
   "id": "14ac08e0-db9d-4253-9815-cefe1362b97f",
   "metadata": {},
   "outputs": [],
   "source": []
  }
 ],
 "metadata": {
  "kernelspec": {
   "display_name": "Python [conda env:new_codex] *",
   "language": "python",
   "name": "conda-env-new_codex-py"
  },
  "language_info": {
   "codemirror_mode": {
    "name": "ipython",
    "version": 3
   },
   "file_extension": ".py",
   "mimetype": "text/x-python",
   "name": "python",
   "nbconvert_exporter": "python",
   "pygments_lexer": "ipython3",
   "version": "3.9.7"
  }
 },
 "nbformat": 4,
 "nbformat_minor": 5
}
