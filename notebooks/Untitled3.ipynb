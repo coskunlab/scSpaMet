{
 "cells": [
  {
   "cell_type": "code",
   "execution_count": 45,
   "id": "a5811b52-d646-40f9-97dd-1602b6fbc20c",
   "metadata": {
    "ExecuteTime": {
     "end_time": "2021-09-28T21:30:15.611133Z",
     "start_time": "2021-09-28T21:30:15.369129Z"
    }
   },
   "outputs": [],
   "source": [
    "import os\n",
    "import sys\n",
    "from pathlib import Path\n",
    "\n",
    "import anndata as ad\n",
    "import cv2 as cv\n",
    "import h5py\n",
    "import matplotlib.pyplot as plt\n",
    "import numpy as np\n",
    "import pandas as pd\n",
    "import scanpy as sc\n",
    "import seaborn as sns\n",
    "from joblib import Parallel, delayed\n",
    "from matplotlib.pyplot import rc_context\n",
    "from skimage import exposure, io\n",
    "from skimage.util import img_as_ubyte\n",
    "from sklearn.preprocessing import MinMaxScaler, StandardScaler\n",
    "from tqdm.notebook import tqdm, trange\n",
    "from matplotlib.patches import Patch\n",
    "\n",
    "sc.settings.verbosity = 3"
   ]
  },
  {
   "cell_type": "code",
   "execution_count": 46,
   "id": "e63c43d8-2d63-44e5-827e-22aa4403cfc6",
   "metadata": {
    "ExecuteTime": {
     "end_time": "2021-09-28T21:20:53.295927Z",
     "start_time": "2021-09-28T21:20:53.050926Z"
    }
   },
   "outputs": [],
   "source": [
    "p_dir = (Path().cwd().parents[0]).absolute()\n",
    "data_dir = p_dir / \"data\""
   ]
  },
  {
   "cell_type": "code",
   "execution_count": 47,
   "id": "2ce52b81-0891-45f3-9d09-966ea6691596",
   "metadata": {
    "ExecuteTime": {
     "end_time": "2021-09-28T21:20:53.945235Z",
     "start_time": "2021-09-28T21:20:53.665931Z"
    }
   },
   "outputs": [
    {
     "name": "stdout",
     "output_type": "stream",
     "text": [
      "The autoreload extension is already loaded. To reload it, use:\n",
      "  %reload_ext autoreload\n"
     ]
    }
   ],
   "source": [
    "%load_ext autoreload\n",
    "%autoreload 2\n",
    "\n",
    "module_path = str(p_dir / \"src\")\n",
    "\n",
    "if module_path not in sys.path:\n",
    "    sys.path.append(module_path)\n",
    "\n",
    "import scanorama\n",
    "import utils as my_utils"
   ]
  },
  {
   "cell_type": "code",
   "execution_count": 48,
   "id": "6547d8cc-436f-43fc-8dca-565ba05e3416",
   "metadata": {
    "ExecuteTime": {
     "end_time": "2021-09-28T21:20:54.511230Z",
     "start_time": "2021-09-28T21:20:54.304229Z"
    }
   },
   "outputs": [],
   "source": [
    "experiment = \"Lung\"\n",
    "# cores=['DonorA', 'DonorE']\n",
    "cores = ['B5', 'C6', 'D4', 'E4', 'E6', 'F4']\n",
    "datasets = [f'{core}_{i}' for core in cores for i in range(1,5)] + ['F7_3', 'F7_4']\n",
    "# datasets = ['E6_1', 'E6_2', 'E6_3']"
   ]
  },
  {
   "cell_type": "markdown",
   "id": "f152d8ad-03d3-47da-914e-1e73c3e74336",
   "metadata": {
    "tags": []
   },
   "source": [
    "# Load data"
   ]
  },
  {
   "cell_type": "code",
   "execution_count": 49,
   "id": "05a3cf85-1a70-4cd5-8a0f-8954047152f4",
   "metadata": {},
   "outputs": [],
   "source": [
    "import palettable\n",
    "heatmap_cmp = palettable.cmocean.diverging.Balance_20.mpl_colormap\n"
   ]
  },
  {
   "cell_type": "code",
   "execution_count": 50,
   "id": "6eb0bd92-e397-499c-a9c7-c37a175a848b",
   "metadata": {
    "ExecuteTime": {
     "end_time": "2021-09-28T21:38:46.228992Z",
     "start_time": "2021-09-28T21:38:45.942993Z"
    }
   },
   "outputs": [],
   "source": [
    "def read_props(dataset, experiment):\n",
    "    df_morph = pd.read_csv(data_dir / \"props\" / f\"morphology_IMC_{experiment}_{dataset}.csv\")\n",
    "    df_intensity_IMC = pd.read_csv(data_dir / \"props\" / f\"intensity_IMC_{experiment}_{dataset}.csv\")\n",
    "    df_intensity_TS = pd.read_csv(data_dir / \"props\" / f\"intensity_TS_{experiment}_{dataset}_auto.csv\")\n",
    "\n",
    "    return df_morph, df_intensity_IMC, df_intensity_TS"
   ]
  },
  {
   "cell_type": "code",
   "execution_count": 51,
   "id": "35726e27-0c9b-4fd7-b4b4-b6c75ad361d7",
   "metadata": {
    "ExecuteTime": {
     "end_time": "2021-09-28T21:38:47.298576Z",
     "start_time": "2021-09-28T21:38:46.633513Z"
    },
    "tags": []
   },
   "outputs": [
    {
     "name": "stdout",
     "output_type": "stream",
     "text": [
      "Sucessfully read dataset B5_1\n",
      "Sucessfully read dataset B5_2\n"
     ]
    },
    {
     "name": "stderr",
     "output_type": "stream",
     "text": [
      "C:\\Users\\thu71\\AppData\\Local\\Temp/ipykernel_28620/679716400.py:28: FutureWarning: X.dtype being converted to np.float32 from float64. In the next version of anndata (0.9) conversion will not be automatic. Pass dtype explicitly to avoid this warning. Pass `AnnData(X, dtype=X.dtype, ...)` to get the future behavour.\n",
      "  adata = sc.AnnData(df.values)\n"
     ]
    },
    {
     "name": "stdout",
     "output_type": "stream",
     "text": [
      "Sucessfully read dataset B5_3\n",
      "B5_4 cannot be read\n",
      "Sucessfully read dataset C6_1\n",
      "Sucessfully read dataset C6_2\n",
      "Sucessfully read dataset C6_3\n",
      "Sucessfully read dataset C6_4\n",
      "Sucessfully read dataset D4_1\n",
      "Sucessfully read dataset D4_2\n",
      "Sucessfully read dataset D4_3\n",
      "D4_4 cannot be read\n",
      "Sucessfully read dataset E4_1\n",
      "Sucessfully read dataset E4_2\n",
      "Sucessfully read dataset E4_3\n",
      "Sucessfully read dataset E4_4\n",
      "Sucessfully read dataset E6_1\n",
      "Sucessfully read dataset E6_2\n",
      "Sucessfully read dataset E6_3\n",
      "E6_4 cannot be read\n",
      "Sucessfully read dataset F4_1\n",
      "Sucessfully read dataset F4_2\n",
      "Sucessfully read dataset F4_3\n",
      "F4_4 cannot be read\n",
      "Sucessfully read dataset F7_3\n",
      "Sucessfully read dataset F7_4\n"
     ]
    },
    {
     "name": "stderr",
     "output_type": "stream",
     "text": [
      "C:\\Users\\thu71\\Anaconda3\\envs\\new_codex\\lib\\site-packages\\anndata\\_core\\anndata.py:1828: UserWarning: Observation names are not unique. To make them unique, call `.obs_names_make_unique`.\n",
      "  utils.warn_names_duplicates(\"obs\")\n"
     ]
    }
   ],
   "source": [
    "adatas = []\n",
    "df_sums = []\n",
    "for dataset in datasets:\n",
    "    try:\n",
    "        df_morph, df_intensity_IMC, df_intensity_TS = read_props(dataset, experiment)\n",
    "        print(f'Sucessfully read dataset {dataset}') \n",
    "    except:\n",
    "        print(f'{dataset} cannot be read') \n",
    "        continue\n",
    "    try:\n",
    "        df_intensity_TS.drop(['Rest', 'Total'], axis=1, inplace=True)\n",
    "    except:\n",
    "        pass\n",
    "    df_intensity_TS.iloc[:, 1:] = df_intensity_TS.iloc[:, 1:].multiply(\n",
    "        df_morph[\"area\"], axis=0\n",
    "    )\n",
    "    data_all = df_intensity_TS.iloc[:, 1:].values\n",
    "    # data_all_norm = (data_all+0.1)/(np.percentile(data_all,50,axis=1,keepdims=True)+0.1)\n",
    "    # data_all_norm = MinMaxScaler().fit_transform(data_all)\n",
    "    # df_intensity_TS.iloc[:, 1:] = data_all_norm\n",
    "    \n",
    "    # Merge TS and IMC data\n",
    "    df = df_intensity_TS\n",
    "    df.set_index(\"Id\", inplace=True)\n",
    "    df_sums.append(df.sum(axis=0))\n",
    "    \n",
    "    # Put to adata format\n",
    "    adata = sc.AnnData(df.values)\n",
    "    adata.var_names = df.columns.tolist()\n",
    "    adata.obs[\"Cell\"] = df.index.tolist()\n",
    "    adata.obs[\"Dataset\"] = dataset\n",
    "    adata.obs[\"Core\"] = dataset.split(\"_\")[0]\n",
    "    adata.obsm[\"spatial\"] = df_morph[[\"centroid-0\", \"centroid-1\"]].to_numpy()\n",
    "    # sc.pp.normalize_total(adata, target_sum=1e5)\n",
    "    # sc.pp.log1p(adata)\n",
    "    # sc.pp.scale(adata)\n",
    "    adatas.append(adata)\n",
    "adata = ad.concat(adatas, join=\"inner\")"
   ]
  },
  {
   "cell_type": "code",
   "execution_count": 52,
   "id": "63404871-1f7f-4770-9ab8-b4a01f33e25f",
   "metadata": {},
   "outputs": [],
   "source": [
    "df_sum = pd.concat(df_sums, axis=1).mean(axis=1)\n",
    "mz_qc = df_sum[(df_sum > 40000)].index.tolist()"
   ]
  },
  {
   "cell_type": "code",
   "execution_count": 53,
   "id": "bfd88a28-8b55-4fde-a6b8-67614505e7e8",
   "metadata": {
    "tags": []
   },
   "outputs": [],
   "source": [
    "# Read Protein clustering info\n",
    "path = data_dir / \"adata\" / f\"{experiment}_R.h5ad\"\n",
    "adata_IMC_cluster = ad.read_h5ad(path)\n"
   ]
  },
  {
   "cell_type": "code",
   "execution_count": 54,
   "id": "ed7b5f4e-94e8-47ed-be69-bde77094d75c",
   "metadata": {},
   "outputs": [
    {
     "name": "stdout",
     "output_type": "stream",
     "text": [
      "normalizing counts per cell\n",
      "    finished (0:00:00)\n"
     ]
    }
   ],
   "source": [
    "sc.pp.normalize_total(adata, target_sum=1e5)\n",
    "sc.pp.log1p(adata)\n",
    "sc.pp.scale(adata)"
   ]
  },
  {
   "cell_type": "code",
   "execution_count": 55,
   "id": "ab448d41-03fc-4573-814b-94512065b538",
   "metadata": {},
   "outputs": [],
   "source": [
    "adata = adata[~adata.obs.Dataset.isin(['F7_1', 'F7_2'])]\n",
    "adata_IMC_cluster = adata_IMC_cluster[~adata_IMC_cluster.obs.Dataset.isin(['F7_1', 'F7_2'])]"
   ]
  },
  {
   "cell_type": "markdown",
   "id": "88820a47-2674-426f-a8be-0873b6c66c93",
   "metadata": {},
   "source": [
    "## Get literature lut"
   ]
  },
  {
   "cell_type": "code",
   "execution_count": 56,
   "id": "47f269fe-bfe2-435b-821b-62aef460d299",
   "metadata": {},
   "outputs": [],
   "source": [
    "SIMS_masses = adata.var_names"
   ]
  },
  {
   "cell_type": "code",
   "execution_count": 57,
   "id": "11b3cb76-644d-4e60-8860-7191c94799db",
   "metadata": {},
   "outputs": [
    {
     "name": "stderr",
     "output_type": "stream",
     "text": [
      "C:\\Users\\thu71\\Anaconda3\\envs\\new_codex\\lib\\site-packages\\pandas\\core\\indexing.py:1667: SettingWithCopyWarning: \n",
      "A value is trying to be set on a copy of a slice from a DataFrame.\n",
      "Try using .loc[row_indexer,col_indexer] = value instead\n",
      "\n",
      "See the caveats in the documentation: https://pandas.pydata.org/pandas-docs/stable/user_guide/indexing.html#returning-a-view-versus-a-copy\n",
      "  self.obj[key] = value\n"
     ]
    }
   ],
   "source": [
    "# Read litterature lut\n",
    "file_path = data_dir / \"metadata\" / 'Putative_annotation_05052022.xlsx'\n",
    "df = pd.read_excel(file_path)\n",
    "lum = df['m/z'].to_numpy()\n",
    "\n",
    "# get matched table by looking at difference with error\n",
    "error = 0.5\n",
    "matched_dfs = []\n",
    "for mz in SIMS_masses.astype(float):\n",
    "    diff = lum-mz\n",
    "    matched = df[abs(diff)<error]\n",
    "    if len(matched) > 0:\n",
    "        matched.loc[:,'SIMS mz'] = mz\n",
    "        matched_dfs.append(matched)\n",
    "        \n",
    "matched = pd.concat(matched_dfs)"
   ]
  },
  {
   "cell_type": "code",
   "execution_count": 58,
   "id": "d310d946-418e-47a7-b6e4-4275437e014c",
   "metadata": {},
   "outputs": [
    {
     "data": {
      "text/html": [
       "<div>\n",
       "<style scoped>\n",
       "    .dataframe tbody tr th:only-of-type {\n",
       "        vertical-align: middle;\n",
       "    }\n",
       "\n",
       "    .dataframe tbody tr th {\n",
       "        vertical-align: top;\n",
       "    }\n",
       "\n",
       "    .dataframe thead th {\n",
       "        text-align: right;\n",
       "    }\n",
       "</style>\n",
       "<table border=\"1\" class=\"dataframe\">\n",
       "  <thead>\n",
       "    <tr style=\"text-align: right;\">\n",
       "      <th></th>\n",
       "      <th>m/z</th>\n",
       "      <th>Ion</th>\n",
       "      <th>Molecules</th>\n",
       "      <th>Type</th>\n",
       "      <th>SIMS mz</th>\n",
       "    </tr>\n",
       "  </thead>\n",
       "  <tbody>\n",
       "    <tr>\n",
       "      <th>0</th>\n",
       "      <td>42.00</td>\n",
       "      <td>CNO-</td>\n",
       "      <td>Small molecular fragment</td>\n",
       "      <td>Metabolite</td>\n",
       "      <td>42.0</td>\n",
       "    </tr>\n",
       "    <tr>\n",
       "      <th>1</th>\n",
       "      <td>59.00</td>\n",
       "      <td>C3H9N-</td>\n",
       "      <td>Glycerophosphocholines</td>\n",
       "      <td>Metabolite</td>\n",
       "      <td>59.0</td>\n",
       "    </tr>\n",
       "    <tr>\n",
       "      <th>2</th>\n",
       "      <td>78.96</td>\n",
       "      <td>PO3-</td>\n",
       "      <td>Phosphate</td>\n",
       "      <td>Metabolite</td>\n",
       "      <td>79.0</td>\n",
       "    </tr>\n",
       "    <tr>\n",
       "      <th>3</th>\n",
       "      <td>86.00</td>\n",
       "      <td>C5H12N-</td>\n",
       "      <td>Glycerophosphocholines</td>\n",
       "      <td>Metabolite</td>\n",
       "      <td>86.0</td>\n",
       "    </tr>\n",
       "    <tr>\n",
       "      <th>4</th>\n",
       "      <td>87.00</td>\n",
       "      <td>C3H3O3-</td>\n",
       "      <td>Pyruvic acid</td>\n",
       "      <td>Metabolite</td>\n",
       "      <td>87.0</td>\n",
       "    </tr>\n",
       "    <tr>\n",
       "      <th>5</th>\n",
       "      <td>89.02</td>\n",
       "      <td>C3H5O3-</td>\n",
       "      <td>Lactic acid</td>\n",
       "      <td>Metabolite</td>\n",
       "      <td>89.0</td>\n",
       "    </tr>\n",
       "    <tr>\n",
       "      <th>6</th>\n",
       "      <td>95.00</td>\n",
       "      <td>C7H11-</td>\n",
       "      <td>Cholesterol fragment</td>\n",
       "      <td>Cholesterol fragment</td>\n",
       "      <td>95.0</td>\n",
       "    </tr>\n",
       "    <tr>\n",
       "      <th>7</th>\n",
       "      <td>102.00</td>\n",
       "      <td>C5H12NO-</td>\n",
       "      <td>Ceramide phosphocholines</td>\n",
       "      <td>Metabolite</td>\n",
       "      <td>102.0</td>\n",
       "    </tr>\n",
       "    <tr>\n",
       "      <th>8</th>\n",
       "      <td>104.03</td>\n",
       "      <td>C3H6NO3-</td>\n",
       "      <td>Serine</td>\n",
       "      <td>Metabolite</td>\n",
       "      <td>104.0</td>\n",
       "    </tr>\n",
       "    <tr>\n",
       "      <th>9</th>\n",
       "      <td>109.00</td>\n",
       "      <td>C8H13-</td>\n",
       "      <td>Cholesterol fragment</td>\n",
       "      <td>Cholesterol fragment</td>\n",
       "      <td>109.0</td>\n",
       "    </tr>\n",
       "    <tr>\n",
       "      <th>10</th>\n",
       "      <td>110.03</td>\n",
       "      <td>C4H4N3O-</td>\n",
       "      <td>Cytosine</td>\n",
       "      <td>Metabolite</td>\n",
       "      <td>110.0</td>\n",
       "    </tr>\n",
       "    <tr>\n",
       "      <th>11</th>\n",
       "      <td>111.02</td>\n",
       "      <td>C4H3N2O2-</td>\n",
       "      <td>Uracil</td>\n",
       "      <td>Metabolite</td>\n",
       "      <td>111.0</td>\n",
       "    </tr>\n",
       "    <tr>\n",
       "      <th>12</th>\n",
       "      <td>114.05</td>\n",
       "      <td>C5H8NO2-</td>\n",
       "      <td>Proline</td>\n",
       "      <td>Metabolite</td>\n",
       "      <td>114.0</td>\n",
       "    </tr>\n",
       "    <tr>\n",
       "      <th>13</th>\n",
       "      <td>116.07</td>\n",
       "      <td>C5H10NO2-</td>\n",
       "      <td>Valine</td>\n",
       "      <td>Metabolite</td>\n",
       "      <td>116.0</td>\n",
       "    </tr>\n",
       "    <tr>\n",
       "      <th>14</th>\n",
       "      <td>124.05</td>\n",
       "      <td>C5H6N3O-</td>\n",
       "      <td>Methylcytosine</td>\n",
       "      <td>Metabolite</td>\n",
       "      <td>124.0</td>\n",
       "    </tr>\n",
       "    <tr>\n",
       "      <th>15</th>\n",
       "      <td>125.03</td>\n",
       "      <td>C5H5N2O2-</td>\n",
       "      <td>Thymine</td>\n",
       "      <td>Metabolite</td>\n",
       "      <td>125.0</td>\n",
       "    </tr>\n",
       "    <tr>\n",
       "      <th>16</th>\n",
       "      <td>126.00</td>\n",
       "      <td>C2H9NPO3-</td>\n",
       "      <td>Glycerophosphoethanolamines</td>\n",
       "      <td>Metabolite</td>\n",
       "      <td>126.0</td>\n",
       "    </tr>\n",
       "    <tr>\n",
       "      <th>17</th>\n",
       "      <td>130.08</td>\n",
       "      <td>C6H12NO2-</td>\n",
       "      <td>Isoleucine/leucine</td>\n",
       "      <td>Metabolite</td>\n",
       "      <td>130.0</td>\n",
       "    </tr>\n",
       "    <tr>\n",
       "      <th>18</th>\n",
       "      <td>131.04</td>\n",
       "      <td>C4H7N2O3-</td>\n",
       "      <td>Asparagine</td>\n",
       "      <td>Metabolite</td>\n",
       "      <td>131.0</td>\n",
       "    </tr>\n",
       "    <tr>\n",
       "      <th>19</th>\n",
       "      <td>134.04</td>\n",
       "      <td>C5H4N5-</td>\n",
       "      <td>Adenine</td>\n",
       "      <td>Metabolite</td>\n",
       "      <td>134.0</td>\n",
       "    </tr>\n",
       "    <tr>\n",
       "      <th>20</th>\n",
       "      <td>135.03</td>\n",
       "      <td>C5H3N4O-</td>\n",
       "      <td>Hypoxanthine</td>\n",
       "      <td>Metabolite</td>\n",
       "      <td>135.0</td>\n",
       "    </tr>\n",
       "    <tr>\n",
       "      <th>21</th>\n",
       "      <td>142.00</td>\n",
       "      <td>C2H9NPO4-</td>\n",
       "      <td>Glycerophosphoethanolamines</td>\n",
       "      <td>Metabolite</td>\n",
       "      <td>142.0</td>\n",
       "    </tr>\n",
       "    <tr>\n",
       "      <th>22</th>\n",
       "      <td>145.06</td>\n",
       "      <td>C5H9N2O3-</td>\n",
       "      <td>Glutamine</td>\n",
       "      <td>Metabolite</td>\n",
       "      <td>145.0</td>\n",
       "    </tr>\n",
       "    <tr>\n",
       "      <th>23</th>\n",
       "      <td>146.04</td>\n",
       "      <td>C5H8NO4-</td>\n",
       "      <td>Glutamic acid</td>\n",
       "      <td>Metabolite</td>\n",
       "      <td>146.0</td>\n",
       "    </tr>\n",
       "    <tr>\n",
       "      <th>24</th>\n",
       "      <td>147.00</td>\n",
       "      <td>C11H15-</td>\n",
       "      <td>Cholesterol fragment</td>\n",
       "      <td>Cholesterol fragment</td>\n",
       "      <td>147.0</td>\n",
       "    </tr>\n",
       "    <tr>\n",
       "      <th>25</th>\n",
       "      <td>150.04</td>\n",
       "      <td>C5H4N5O-</td>\n",
       "      <td>Guanine</td>\n",
       "      <td>Metabolite</td>\n",
       "      <td>150.0</td>\n",
       "    </tr>\n",
       "    <tr>\n",
       "      <th>26</th>\n",
       "      <td>152.07</td>\n",
       "      <td>C8H10NO2-</td>\n",
       "      <td>Dopamine</td>\n",
       "      <td>Metabolite</td>\n",
       "      <td>152.0</td>\n",
       "    </tr>\n",
       "    <tr>\n",
       "      <th>27</th>\n",
       "      <td>152.99</td>\n",
       "      <td>C3H6PO5-</td>\n",
       "      <td>Glycerol-3-phosphate</td>\n",
       "      <td>Metabolite</td>\n",
       "      <td>153.0</td>\n",
       "    </tr>\n",
       "    <tr>\n",
       "      <th>28</th>\n",
       "      <td>154.06</td>\n",
       "      <td>C6H8N3O2-</td>\n",
       "      <td>Histidine</td>\n",
       "      <td>Metabolite</td>\n",
       "      <td>154.0</td>\n",
       "    </tr>\n",
       "    <tr>\n",
       "      <th>29</th>\n",
       "      <td>156.03</td>\n",
       "      <td>C6H6NO4-</td>\n",
       "      <td>Aspartic acid</td>\n",
       "      <td>Metabolite</td>\n",
       "      <td>156.0</td>\n",
       "    </tr>\n",
       "    <tr>\n",
       "      <th>30</th>\n",
       "      <td>161.00</td>\n",
       "      <td>C12H17-</td>\n",
       "      <td>Cholesterol fragment</td>\n",
       "      <td>Cholesterol fragment</td>\n",
       "      <td>161.0</td>\n",
       "    </tr>\n",
       "    <tr>\n",
       "      <th>31</th>\n",
       "      <td>164.07</td>\n",
       "      <td>C9H10NO2-</td>\n",
       "      <td>Phenylalanine</td>\n",
       "      <td>Metabolite</td>\n",
       "      <td>164.0</td>\n",
       "    </tr>\n",
       "    <tr>\n",
       "      <th>32</th>\n",
       "      <td>165.00</td>\n",
       "      <td>C10H13O2-</td>\n",
       "      <td>Hydroquinone</td>\n",
       "      <td>Metabolite</td>\n",
       "      <td>165.0</td>\n",
       "    </tr>\n",
       "    <tr>\n",
       "      <th>33</th>\n",
       "      <td>166.00</td>\n",
       "      <td>C5H13NPO3-</td>\n",
       "      <td>Glycerophosphocholines</td>\n",
       "      <td>Metabolite</td>\n",
       "      <td>166.0</td>\n",
       "    </tr>\n",
       "    <tr>\n",
       "      <th>34</th>\n",
       "      <td>168.04</td>\n",
       "      <td>C4H11NO4P-</td>\n",
       "      <td>Phosphocholine-CH3</td>\n",
       "      <td>Metabolite</td>\n",
       "      <td>168.0</td>\n",
       "    </tr>\n",
       "    <tr>\n",
       "      <th>35</th>\n",
       "      <td>171.10</td>\n",
       "      <td>C10H20O2-</td>\n",
       "      <td>FA(10:0)</td>\n",
       "      <td>Faty acid</td>\n",
       "      <td>171.0</td>\n",
       "    </tr>\n",
       "    <tr>\n",
       "      <th>36</th>\n",
       "      <td>173.10</td>\n",
       "      <td>C6H13N4O2-</td>\n",
       "      <td>Arginine</td>\n",
       "      <td>Metabolite</td>\n",
       "      <td>173.0</td>\n",
       "    </tr>\n",
       "    <tr>\n",
       "      <th>37</th>\n",
       "      <td>174.00</td>\n",
       "      <td>C6H8NO5-</td>\n",
       "      <td>[M-H]</td>\n",
       "      <td>Metabolite</td>\n",
       "      <td>174.0</td>\n",
       "    </tr>\n",
       "    <tr>\n",
       "      <th>38</th>\n",
       "      <td>179.00</td>\n",
       "      <td>C6H11O6-</td>\n",
       "      <td>Glucose</td>\n",
       "      <td>Metabolite</td>\n",
       "      <td>179.0</td>\n",
       "    </tr>\n",
       "    <tr>\n",
       "      <th>42</th>\n",
       "      <td>199.17</td>\n",
       "      <td>C12H23O2-</td>\n",
       "      <td>FA(12:0)</td>\n",
       "      <td>Faty acid</td>\n",
       "      <td>198.9</td>\n",
       "    </tr>\n",
       "    <tr>\n",
       "      <th>44</th>\n",
       "      <td>205.00</td>\n",
       "      <td>C11H11N2O3-</td>\n",
       "      <td>Hydroquinone</td>\n",
       "      <td>Metabolite</td>\n",
       "      <td>204.9</td>\n",
       "    </tr>\n",
       "    <tr>\n",
       "      <th>51</th>\n",
       "      <td>253.20</td>\n",
       "      <td>C16H29O2-</td>\n",
       "      <td>FA(16:1)</td>\n",
       "      <td>Faty acid</td>\n",
       "      <td>253.3</td>\n",
       "    </tr>\n",
       "    <tr>\n",
       "      <th>57</th>\n",
       "      <td>277.21</td>\n",
       "      <td>C18H29O2-</td>\n",
       "      <td>FA(18:3)</td>\n",
       "      <td>Faty acid</td>\n",
       "      <td>277.0</td>\n",
       "    </tr>\n",
       "  </tbody>\n",
       "</table>\n",
       "</div>"
      ],
      "text/plain": [
       "       m/z          Ion                    Molecules                  Type  \\\n",
       "0    42.00         CNO-     Small molecular fragment            Metabolite   \n",
       "1    59.00       C3H9N-       Glycerophosphocholines            Metabolite   \n",
       "2    78.96         PO3-                    Phosphate            Metabolite   \n",
       "3    86.00      C5H12N-       Glycerophosphocholines            Metabolite   \n",
       "4    87.00      C3H3O3-                 Pyruvic acid            Metabolite   \n",
       "5    89.02      C3H5O3-                  Lactic acid            Metabolite   \n",
       "6    95.00       C7H11-         Cholesterol fragment  Cholesterol fragment   \n",
       "7   102.00     C5H12NO-     Ceramide phosphocholines            Metabolite   \n",
       "8   104.03     C3H6NO3-                       Serine            Metabolite   \n",
       "9   109.00       C8H13-         Cholesterol fragment  Cholesterol fragment   \n",
       "10  110.03     C4H4N3O-                     Cytosine            Metabolite   \n",
       "11  111.02    C4H3N2O2-                       Uracil            Metabolite   \n",
       "12  114.05     C5H8NO2-                      Proline            Metabolite   \n",
       "13  116.07    C5H10NO2-                       Valine            Metabolite   \n",
       "14  124.05     C5H6N3O-               Methylcytosine            Metabolite   \n",
       "15  125.03    C5H5N2O2-                      Thymine            Metabolite   \n",
       "16  126.00    C2H9NPO3-  Glycerophosphoethanolamines            Metabolite   \n",
       "17  130.08    C6H12NO2-           Isoleucine/leucine            Metabolite   \n",
       "18  131.04    C4H7N2O3-                   Asparagine            Metabolite   \n",
       "19  134.04      C5H4N5-                      Adenine            Metabolite   \n",
       "20  135.03     C5H3N4O-                 Hypoxanthine            Metabolite   \n",
       "21  142.00    C2H9NPO4-  Glycerophosphoethanolamines            Metabolite   \n",
       "22  145.06    C5H9N2O3-                    Glutamine            Metabolite   \n",
       "23  146.04     C5H8NO4-                Glutamic acid            Metabolite   \n",
       "24  147.00      C11H15-         Cholesterol fragment  Cholesterol fragment   \n",
       "25  150.04     C5H4N5O-                      Guanine            Metabolite   \n",
       "26  152.07    C8H10NO2-                     Dopamine            Metabolite   \n",
       "27  152.99     C3H6PO5-         Glycerol-3-phosphate            Metabolite   \n",
       "28  154.06    C6H8N3O2-                    Histidine            Metabolite   \n",
       "29  156.03     C6H6NO4-                Aspartic acid            Metabolite   \n",
       "30  161.00      C12H17-         Cholesterol fragment  Cholesterol fragment   \n",
       "31  164.07    C9H10NO2-                Phenylalanine            Metabolite   \n",
       "32  165.00    C10H13O2-                 Hydroquinone            Metabolite   \n",
       "33  166.00   C5H13NPO3-       Glycerophosphocholines            Metabolite   \n",
       "34  168.04   C4H11NO4P-           Phosphocholine-CH3            Metabolite   \n",
       "35  171.10    C10H20O2-                     FA(10:0)             Faty acid   \n",
       "36  173.10   C6H13N4O2-                     Arginine            Metabolite   \n",
       "37  174.00     C6H8NO5-                        [M-H]            Metabolite   \n",
       "38  179.00     C6H11O6-                      Glucose            Metabolite   \n",
       "42  199.17    C12H23O2-                     FA(12:0)             Faty acid   \n",
       "44  205.00  C11H11N2O3-                 Hydroquinone            Metabolite   \n",
       "51  253.20    C16H29O2-                     FA(16:1)             Faty acid   \n",
       "57  277.21    C18H29O2-                     FA(18:3)             Faty acid   \n",
       "\n",
       "    SIMS mz  \n",
       "0      42.0  \n",
       "1      59.0  \n",
       "2      79.0  \n",
       "3      86.0  \n",
       "4      87.0  \n",
       "5      89.0  \n",
       "6      95.0  \n",
       "7     102.0  \n",
       "8     104.0  \n",
       "9     109.0  \n",
       "10    110.0  \n",
       "11    111.0  \n",
       "12    114.0  \n",
       "13    116.0  \n",
       "14    124.0  \n",
       "15    125.0  \n",
       "16    126.0  \n",
       "17    130.0  \n",
       "18    131.0  \n",
       "19    134.0  \n",
       "20    135.0  \n",
       "21    142.0  \n",
       "22    145.0  \n",
       "23    146.0  \n",
       "24    147.0  \n",
       "25    150.0  \n",
       "26    152.0  \n",
       "27    153.0  \n",
       "28    154.0  \n",
       "29    156.0  \n",
       "30    161.0  \n",
       "31    164.0  \n",
       "32    165.0  \n",
       "33    166.0  \n",
       "34    168.0  \n",
       "35    171.0  \n",
       "36    173.0  \n",
       "37    174.0  \n",
       "38    179.0  \n",
       "42    198.9  \n",
       "44    204.9  \n",
       "51    253.3  \n",
       "57    277.0  "
      ]
     },
     "execution_count": 58,
     "metadata": {},
     "output_type": "execute_result"
    }
   ],
   "source": [
    "matched"
   ]
  },
  {
   "cell_type": "code",
   "execution_count": 59,
   "id": "34c0b234-a9a1-40a5-bfa6-d26183cb89c2",
   "metadata": {},
   "outputs": [
    {
     "name": "stdout",
     "output_type": "stream",
     "text": [
      "Number of matched m/z: 43\n"
     ]
    }
   ],
   "source": [
    "# Get all info from litterature excel\n",
    "SIMS_masses_subset = np.array(matched['SIMS mz'].to_list(), dtype=float).astype(str)\n",
    "SIMS_masses_subset = pd.Index(SIMS_masses_subset)\n",
    "\n",
    "SIMS_name_subset = np.array(matched['Molecules'].to_list()).astype(str)\n",
    "SIMS_name_subset = pd.Index(SIMS_name_subset)\n",
    "\n",
    "SIMS_nm_subset = SIMS_masses_subset + 'm/z ' + SIMS_name_subset\n",
    "\n",
    "SIMS_type_subset = np.array(matched['Type'].to_list()).astype(str)\n",
    "SIMS_type_subset = pd.Index(SIMS_type_subset)\n",
    "\n",
    "print(f\"Number of matched m/z: {len(SIMS_masses_subset)}\")"
   ]
  },
  {
   "cell_type": "code",
   "execution_count": 60,
   "id": "a3de2a79-8028-472a-a04b-4d95b50b08e9",
   "metadata": {},
   "outputs": [
    {
     "name": "stderr",
     "output_type": "stream",
     "text": [
      "C:\\Users\\thu71\\Anaconda3\\envs\\new_codex\\lib\\site-packages\\anndata\\_core\\anndata.py:1828: UserWarning: Observation names are not unique. To make them unique, call `.obs_names_make_unique`.\n",
      "  utils.warn_names_duplicates(\"obs\")\n"
     ]
    }
   ],
   "source": [
    "adata_all = adata.copy()\n",
    "adata = adata[:, SIMS_masses_subset]\n",
    "adata.var_names = SIMS_nm_subset"
   ]
  },
  {
   "cell_type": "markdown",
   "id": "a240b9a5-ec96-412c-a40e-aa3901fb5e68",
   "metadata": {},
   "source": [
    "# Rename clusters"
   ]
  },
  {
   "cell_type": "code",
   "execution_count": 61,
   "id": "3bcadc6c-8702-43e5-84e6-1de05184ce92",
   "metadata": {},
   "outputs": [],
   "source": [
    "import palettable\n",
    "heatmap_cmp = palettable.cmocean.diverging.Balance_20.mpl_colormap\n"
   ]
  },
  {
   "cell_type": "code",
   "execution_count": 62,
   "id": "a0ed799b-896a-441a-8e9c-7db059f83d00",
   "metadata": {},
   "outputs": [],
   "source": [
    "type_dict = {'0': 'Tumor',\n",
    "            '1': 'Tumor',\n",
    "            '2': 'Stroma', \n",
    "            '3': 'Immune',\n",
    "            '4': 'Immune',\n",
    "            '5': 'Stroma',\n",
    "            '6': 'Tumor'\n",
    "            }"
   ]
  },
  {
   "cell_type": "code",
   "execution_count": 63,
   "id": "eae64d14-5a43-42f4-8dc8-3b149c482dd3",
   "metadata": {},
   "outputs": [],
   "source": [
    "adata_CN = adata_IMC_cluster.copy()"
   ]
  },
  {
   "cell_type": "code",
   "execution_count": 64,
   "id": "deb9a085-d281-4781-9992-266c1c82dfba",
   "metadata": {},
   "outputs": [],
   "source": [
    "adata_CN.obs['Type'] = (\n",
    "    adata_CN.obs['leiden']\n",
    "    .map(type_dict)\n",
    "    .astype(\"category\")\n",
    ")\n",
    "adata_CN.uns['Type_colors'] = adata_CN.uns['leiden_colors'][:len(np.unique(adata_CN.obs['Type']))]"
   ]
  },
  {
   "cell_type": "markdown",
   "id": "1635dfb9-f840-4b05-bcd7-1dc4c2481bde",
   "metadata": {},
   "source": [
    "# Get neighbors"
   ]
  },
  {
   "cell_type": "code",
   "execution_count": 65,
   "id": "e34bc1d0-9fa5-4ed0-81c1-3dcfd4a95d90",
   "metadata": {},
   "outputs": [],
   "source": [
    "from sklearn.neighbors import BallTree\n",
    "from joblib import Parallel, delayed\n",
    "import itertools\n",
    "\n",
    "def get_distance(adata_subset, adata_all, k=10):\n",
    "    spatial = adata_all.obsm['spatial']\n",
    "    query = adata_subset.obsm['spatial']\n",
    "   \n",
    "    tree = BallTree(spatial, metric='euclidean') \n",
    "    ind = tree.query(query, k=k, return_distance= False)\n",
    "    \n",
    "    # Map phenotype\n",
    "    dummies = pd.get_dummies(adata_all.obs[\"Type\"]).values\n",
    "    col_name = pd.get_dummies(adata_all.obs[\"Type\"]).columns.tolist()\n",
    "    window = dummies[ind].flatten()\n",
    "    window = window.reshape(-1, k, dummies.shape[1])\n",
    "    window = window.sum(axis=1) / k\n",
    "    \n",
    "    neighbors = pd.DataFrame(window, columns=col_name)\n",
    "    return neighbors\n",
    "\n",
    "def get_neighbors(adata_subset, adata_all, imageid='Dataset',k=10):\n",
    "    adata_list = [adata_subset[adata_subset.obs[imageid] == i] for i in adata_subset.obs[imageid].unique()]    \n",
    "    \n",
    "    neighbors_internal = lambda x: get_distance(adata_subset=x, adata_all=adata_all, k=k)\n",
    "                                                                       \n",
    "    all_data = list(map(neighbors_internal, adata_list)) # Apply function \n",
    "    \n",
    "    result = []\n",
    "    for i in range(len(all_data)):\n",
    "        result.append(all_data[i])\n",
    "    result = pd.concat(result)  \n",
    "    return result"
   ]
  },
  {
   "cell_type": "code",
   "execution_count": 66,
   "id": "dbf75f51-3ac6-4e6f-9ec6-3a880c2ef069",
   "metadata": {},
   "outputs": [],
   "source": [
    "adata_marker_positive = adata_CN[adata_CN[:,'CD68'].X > 0.5]\n",
    "adata_subset = adata[adata_CN[:,'CD68'].X > 0.5]\n",
    "neighbors = get_neighbors(adata_marker_positive, adata_CN, k=10)"
   ]
  },
  {
   "cell_type": "code",
   "execution_count": 67,
   "id": "adb68287-9994-4fed-8e26-f80e48749372",
   "metadata": {},
   "outputs": [
    {
     "name": "stderr",
     "output_type": "stream",
     "text": [
      "C:\\Users\\thu71\\AppData\\Local\\Temp/ipykernel_28620/2182913865.py:1: ImplicitModificationWarning: Trying to modify attribute `.obs` of view, initializing view as actual.\n",
      "  adata_subset.obs['Type'] = (neighbors['Tumor']>0.5).map({True: 'Tumor Neighbor', False: 'Non Tumor Neighbor'}).tolist()\n",
      "C:\\Users\\thu71\\Anaconda3\\envs\\new_codex\\lib\\site-packages\\anndata\\_core\\anndata.py:1828: UserWarning: Observation names are not unique. To make them unique, call `.obs_names_make_unique`.\n",
      "  utils.warn_names_duplicates(\"obs\")\n"
     ]
    }
   ],
   "source": [
    "adata_subset.obs['Type'] = (neighbors['Tumor']>0.5).map({True: 'Tumor Neighbor', False: 'Non Tumor Neighbor'}).tolist()\n",
    "adata_subset.obs['Type'] = adata_subset.obs['Type'].astype('category')"
   ]
  },
  {
   "cell_type": "code",
   "execution_count": 68,
   "id": "7d812cbd-0a1b-4669-b109-ea6ecf0a8ef8",
   "metadata": {},
   "outputs": [
    {
     "name": "stdout",
     "output_type": "stream",
     "text": [
      "    using data matrix X directly\n",
      "Storing dendrogram info using `.uns['dendrogram_Type']`\n",
      "ranking genes\n",
      "    finished: added to `.uns['rank_genes_groups']`\n",
      "    'names', sorted np.recarray to be indexed by group ids\n",
      "    'scores', sorted np.recarray to be indexed by group ids\n",
      "    'logfoldchanges', sorted np.recarray to be indexed by group ids\n",
      "    'pvals', sorted np.recarray to be indexed by group ids\n",
      "    'pvals_adj', sorted np.recarray to be indexed by group ids (0:00:00)\n"
     ]
    },
    {
     "name": "stderr",
     "output_type": "stream",
     "text": [
      "C:\\Users\\thu71\\Anaconda3\\envs\\new_codex\\lib\\site-packages\\scanpy\\tools\\_rank_genes_groups.py:420: RuntimeWarning: invalid value encountered in log2\n",
      "  self.stats[group_name, 'logfoldchanges'] = np.log2(\n"
     ]
    },
    {
     "name": "stdout",
     "output_type": "stream",
     "text": [
      "WARNING: Dendrogram not added. Dendrogram is added only when the number of categories to plot > 2\n"
     ]
    },
    {
     "data": {
      "image/png": "[encoded data removed]",
      "text/plain": [
       "<Figure size 480.96x180 with 4 Axes>"
      ]
     },
     "metadata": {
      "needs_background": "light"
     },
     "output_type": "display_data"
    }
   ],
   "source": [
    "sc.tl.dendrogram(adata_subset, groupby='Type')\n",
    "sc.tl.rank_genes_groups(adata_subset, groupby='Type', method='t-test_overestim_var')\n",
    "\n",
    "with sns.plotting_context('notebook', font_scale=1.2):\n",
    "    ax = sc.pl.rank_genes_groups_matrixplot(adata_subset, n_genes=7, use_raw=False, cmap=heatmap_cmp, show=False)\n",
    "    xticklabels = ax['mainplot_ax'].get_xticklabels()\n",
    "    ax['mainplot_ax'].set_xticklabels(xticklabels, rotation = 45, ha=\"right\")\n",
    "    ax['mainplot_ax'].tick_params(axis='x', pad=0)\n",
    "    plt.show()"
   ]
  },
  {
   "cell_type": "code",
   "execution_count": 69,
   "id": "64442fba-6540-476a-8225-def4e5f3165c",
   "metadata": {},
   "outputs": [],
   "source": [
    "# Extract diff expression dataframe\n",
    "dedf = sc.get.rank_genes_groups_df(adata_subset, group=None)\n",
    "\n",
    "# Get top diff expression\n",
    "topk=5\n",
    "masses_largest = dedf.groupby('group').apply(lambda x: x.nlargest(topk,['scores'])).names.unique()\n",
    "masses_lowest = dedf.groupby('group').apply(lambda x: x.nsmallest(topk,['scores'])).names.unique()\n",
    "masses = np.unique(np.concatenate([masses_largest, masses_lowest]))"
   ]
  },
  {
   "cell_type": "code",
   "execution_count": 70,
   "id": "bf51e9c9-a3fc-403e-b591-ea9288603f12",
   "metadata": {},
   "outputs": [],
   "source": [
    "# Extract dataframe\n",
    "var = 'Type'\n",
    "\n",
    "adata_subset = adata_subset[:,masses]\n",
    "df_SIMS = pd.DataFrame(adata_subset.X, columns=adata_subset.var_names)\n",
    "df_SIMS[var] = adata_subset.obs[var].tolist()\n",
    "\n",
    "df_SIMS_grouped = df_SIMS.groupby([var]).mean()"
   ]
  },
  {
   "cell_type": "code",
   "execution_count": 71,
   "id": "9d4cd822-e6f2-4127-bf3b-14fac5b6d1dd",
   "metadata": {},
   "outputs": [],
   "source": [
    "# Get subset of masses\n",
    "adata_subset = adata_subset[:,masses]\n",
    "\n",
    "# Get dataframe\n",
    "df_SIMS = pd.DataFrame(adata_subset.X, columns=adata_subset.var_names)\n",
    "df_SIMS[var] = adata_subset.obs[var].tolist()\n",
    "# df_SIMS.drop(['1.0'], axis=1, inplace=True)\n",
    "\n",
    "# Sort masses by GC eexpression\n",
    "df_SIMS_var = (df_SIMS\n",
    "                .melt(id_vars=var, var_name='mz', value_name='Normalized ion count'))\n",
    "df = df_SIMS_var[df_SIMS_var[var] == 'Tumor Neighbor'].groupby('mz').mean()\n",
    "df.sort_values('Normalized ion count', inplace=True)\n",
    "masses_sorted = df.index.tolist()"
   ]
  },
  {
   "cell_type": "code",
   "execution_count": 72,
   "id": "74eb2419-ed7f-436f-b0fd-0fb4d998608e",
   "metadata": {},
   "outputs": [
    {
     "data": {
      "text/plain": [
       "<matplotlib.legend.Legend at 0x16841cf9790>"
      ]
     },
     "execution_count": 72,
     "metadata": {},
     "output_type": "execute_result"
    },
    {
     "data": {
      "image/png": "[encoded data removed]",
      "text/plain": [
       "<Figure size 1440x360 with 1 Axes>"
      ]
     },
     "metadata": {
      "needs_background": "light"
     },
     "output_type": "display_data"
    }
   ],
   "source": [
    "sns.set_context('talk', font_scale=1.5)\n",
    "\n",
    "fig, ax = plt.subplots(figsize=(20,5))\n",
    "sns.boxplot(data=df_SIMS_var, \n",
    "            hue=var, \n",
    "            x='mz', \n",
    "            y='Normalized ion count',\n",
    "            order=masses_sorted,\n",
    "            ax=ax, \n",
    "            palette='tab10', \n",
    "            showfliers=False)\n",
    "plt.xticks(rotation = 45, ha='right')\n",
    "plt.legend(bbox_to_anchor=(1.02, 0.15), loc='lower left', borderaxespad=0)\n"
   ]
  },
  {
   "cell_type": "code",
   "execution_count": null,
   "id": "f14cacdf-98fb-4982-aaec-648d2e591222",
   "metadata": {},
   "outputs": [],
   "source": []
  },
  {
   "cell_type": "code",
   "execution_count": null,
   "id": "fa343d6b-96f1-464d-a2b7-0ee33fc5d074",
   "metadata": {},
   "outputs": [],
   "source": []
  }
 ],
 "metadata": {
  "kernelspec": {
   "display_name": "Python [conda env:new_codex] *",
   "language": "python",
   "name": "conda-env-new_codex-py"
  },
  "language_info": {
   "codemirror_mode": {
    "name": "ipython",
    "version": 3
   },
   "file_extension": ".py",
   "mimetype": "text/x-python",
   "name": "python",
   "nbconvert_exporter": "python",
   "pygments_lexer": "ipython3",
   "version": "3.9.7"
  }
 },
 "nbformat": 4,
 "nbformat_minor": 5
}
