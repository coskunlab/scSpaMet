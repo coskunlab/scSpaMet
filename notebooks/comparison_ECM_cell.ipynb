{
 "cells": [
  {
   "cell_type": "code",
   "execution_count": 9,
   "id": "3b79469f-85c3-4aef-93f9-0373038f9ffa",
   "metadata": {
    "ExecuteTime": {
     "end_time": "2021-10-07T22:47:35.041706Z",
     "start_time": "2021-10-07T22:47:34.714636Z"
    }
   },
   "outputs": [],
   "source": [
    "import os\n",
    "import sys\n",
    "from pathlib import Path\n",
    "\n",
    "import cv2 as cv\n",
    "import cv2\n",
    "import h5py\n",
    "import matplotlib.pyplot as plt\n",
    "import napari\n",
    "import numpy as np\n",
    "import pandas as pd\n",
    "import skimage\n",
    "from joblib import Parallel, delayed\n",
    "from skimage import exposure, io\n",
    "from skimage.util import img_as_ubyte\n",
    "from tqdm.notebook import tqdm, trange"
   ]
  },
  {
   "cell_type": "code",
   "execution_count": 10,
   "id": "fa0a9467-e4ee-472c-b3ae-e9715af8bd3a",
   "metadata": {
    "ExecuteTime": {
     "end_time": "2021-10-07T22:47:35.365702Z",
     "start_time": "2021-10-07T22:47:35.044700Z"
    }
   },
   "outputs": [],
   "source": [
    "p_dir = (Path().cwd().parents[0]).absolute()\n",
    "data_dir = p_dir / \"data\"\n",
    "match_info_dir = data_dir / \"match\""
   ]
  },
  {
   "cell_type": "code",
   "execution_count": 11,
   "id": "f6a7eb1b-12f6-46cc-8f3e-3e7ebe0f784a",
   "metadata": {
    "ExecuteTime": {
     "end_time": "2021-10-07T22:47:35.642794Z",
     "start_time": "2021-10-07T22:47:35.367704Z"
    }
   },
   "outputs": [
    {
     "name": "stdout",
     "output_type": "stream",
     "text": [
      "The autoreload extension is already loaded. To reload it, use:\n",
      "  %reload_ext autoreload\n"
     ]
    }
   ],
   "source": [
    "%load_ext autoreload\n",
    "%autoreload 2\n",
    "\n",
    "module_path = str(p_dir / \"src\")\n",
    "\n",
    "if module_path not in sys.path:\n",
    "    sys.path.append(module_path)\n",
    "\n",
    "import utils as my_utils\n",
    "import transform "
   ]
  },
  {
   "cell_type": "code",
   "execution_count": 12,
   "id": "deefacff-0704-4ac7-be71-31a3dda2a8f0",
   "metadata": {},
   "outputs": [],
   "source": [
    "experiment = \"Lung\"\n",
    "cores = ['B5', 'C6', 'D4', 'E4', 'E6', 'F4', 'F7']"
   ]
  },
  {
   "cell_type": "markdown",
   "id": "046a1627-c213-42c7-80d0-0cba7ac90274",
   "metadata": {},
   "source": [
    "# Read SIMS"
   ]
  },
  {
   "cell_type": "code",
   "execution_count": 18,
   "id": "afafd64b-7456-4d1d-8ed1-6fbb2cdfccbc",
   "metadata": {},
   "outputs": [],
   "source": [
    "h5_data_dir = p_dir / \"data\" / \"h5\"\n",
    "\n",
    "def get_imgs_sims(experiment, name):\n",
    "    with h5py.File(h5_data_dir / f\"{experiment}.hdf5\", \"r\") as f:\n",
    "        imgs = f[name][:]\n",
    "        labels = list(f[name].attrs[\"labels\"])\n",
    "    return imgs, labels\n",
    "\n",
    "# Read mask image\n",
    "def get_masks(mask_folder, dataset):\n",
    "    \"\"\"\n",
    "    Function to get all mask from mask forlder\n",
    "    \"\"\"\n",
    "    # Read masks\n",
    "    masks = {}\n",
    "\n",
    "    for (dirpath, dirnames, filenames) in os.walk(mask_folder):\n",
    "        for name in sorted(filenames):\n",
    "            if \"tif\" in name and dataset in name:\n",
    "                filename = os.path.join(dirpath, name)\n",
    "                img = skimage.io.imread(filename)\n",
    "                condition = name.split(\".\")[0]\n",
    "                masks[condition] = img\n",
    "            else:\n",
    "                continue\n",
    "    return masks"
   ]
  },
  {
   "cell_type": "code",
   "execution_count": 19,
   "id": "e24928f4-a9e3-42b1-a13b-59866e25e002",
   "metadata": {},
   "outputs": [
    {
     "name": "stdout",
     "output_type": "stream",
     "text": [
      "B5_1\n",
      "B5_2\n",
      "B5_3\n",
      "C6_1\n",
      "C6_2\n",
      "C6_3\n",
      "C6_4\n",
      "D4_1\n",
      "D4_2\n",
      "D4_3\n",
      "E4_1\n",
      "E4_2\n",
      "E4_3\n",
      "E4_4\n",
      "E6_1\n",
      "E6_2\n",
      "E6_3\n",
      "F4_1\n",
      "F4_2\n",
      "F4_3\n",
      "F7_1\n",
      "F7_2\n",
      "F7_3\n",
      "F7_4\n"
     ]
    }
   ],
   "source": [
    "for i, core in enumerate(cores):\n",
    "    datasets = [f'{core}_{i}' for i in range(1,5)]\n",
    "    masks = get_masks(data_dir / \"masks\", f\"{experiment}_{core}\")\n",
    "    for j, dataset in enumerate(datasets):\n",
    "        try:\n",
    "            info = my_utils.load_pkl(match_info_dir / f\"{experiment}_{dataset}.pickle\")\n",
    "        except:\n",
    "            continue\n",
    "        print(dataset)\n",
    "        \n",
    "        # --- Read mask\n",
    "        mask = masks[\"_\".join([experiment, dataset])]\n",
    "\n",
    "        # --- Read tof-sims images\n",
    "        imgs, labels = get_imgs_sims(experiment, dataset)"
   ]
  },
  {
   "cell_type": "code",
   "execution_count": null,
   "id": "5d18cd3a-1545-4b0c-b99e-83840d997297",
   "metadata": {},
   "outputs": [],
   "source": []
  }
 ],
 "metadata": {
  "kernelspec": {
   "display_name": "Python [conda env:new_codex] *",
   "language": "python",
   "name": "conda-env-new_codex-py"
  },
  "language_info": {
   "codemirror_mode": {
    "name": "ipython",
    "version": 3
   },
   "file_extension": ".py",
   "mimetype": "text/x-python",
   "name": "python",
   "nbconvert_exporter": "python",
   "pygments_lexer": "ipython3",
   "version": "3.9.7"
  }
 },
 "nbformat": 4,
 "nbformat_minor": 5
}
