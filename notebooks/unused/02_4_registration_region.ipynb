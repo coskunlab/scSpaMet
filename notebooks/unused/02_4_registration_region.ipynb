{
 "cells": [
  {
   "cell_type": "code",
   "execution_count": 1,
   "id": "4ab114d3-7a1d-4ae6-9036-e73a2e52ed2e",
   "metadata": {
    "ExecuteTime": {
     "end_time": "2021-10-07T22:51:05.895227Z",
     "start_time": "2021-10-07T22:51:05.623223Z"
    }
   },
   "outputs": [],
   "source": [
    "import os\n",
    "import sys\n",
    "from pathlib import Path\n",
    "\n",
    "import cv2 as cv\n",
    "import h5py\n",
    "import matplotlib.pyplot as plt\n",
    "import numpy as np\n",
    "import pandas as pd\n",
    "import skimage\n",
    "from joblib import Parallel, delayed\n",
    "from skimage import exposure, io, util\n",
    "from skimage.util import img_as_ubyte\n",
    "from tqdm.notebook import tqdm, trange\n",
    "import cv2"
   ]
  },
  {
   "cell_type": "code",
   "execution_count": 2,
   "id": "598a0ad5-d4c0-49ac-85f2-a35ec85e25e3",
   "metadata": {
    "ExecuteTime": {
     "end_time": "2021-10-07T22:51:06.502321Z",
     "start_time": "2021-10-07T22:51:06.237304Z"
    }
   },
   "outputs": [],
   "source": [
    "p_dir = (Path().cwd().parents[0]).absolute()\n",
    "data_dir = p_dir / \"data\"\n",
    "match_info_dir = data_dir / \"match\""
   ]
  },
  {
   "cell_type": "code",
   "execution_count": 3,
   "id": "a8ff469b-521a-4de4-95f4-75ab0063e0ea",
   "metadata": {
    "ExecuteTime": {
     "end_time": "2021-10-07T22:51:07.107319Z",
     "start_time": "2021-10-07T22:51:06.806318Z"
    }
   },
   "outputs": [],
   "source": [
    "%load_ext autoreload\n",
    "%autoreload 2\n",
    "\n",
    "module_path = str(p_dir / \"src\")\n",
    "\n",
    "if module_path not in sys.path:\n",
    "    sys.path.append(module_path)\n",
    "\n",
    "import utils as my_utils"
   ]
  },
  {
   "cell_type": "code",
   "execution_count": 4,
   "id": "d2bdc49d-6220-4e94-bf31-95ea35036992",
   "metadata": {},
   "outputs": [],
   "source": [
    "# experiment = \"tonsil\"\n",
    "# core = \"DonorA\"\n",
    "# datasets = [\n",
    "#     core + \"_1\",\n",
    "#     core + \"_2\",\n",
    "#     core + \"_3\",\n",
    "#     core + \"_4\",\n",
    "#     core + \"_5\",\n",
    "#     core + \"_6\",\n",
    "# ]"
   ]
  },
  {
   "cell_type": "code",
   "execution_count": 5,
   "id": "89201f8f-7b3b-45d0-91d2-ebfdba6b81f3",
   "metadata": {
    "ExecuteTime": {
     "end_time": "2021-10-07T22:54:54.116566Z",
     "start_time": "2021-10-07T22:54:53.822565Z"
    }
   },
   "outputs": [],
   "source": [
    "# experiment = \"Lung\"\n",
    "# core = \"B5\"\n",
    "# datasets = [\n",
    "#     core + \"_1\",\n",
    "#     core + \"_2\",\n",
    "#     core + \"_3\",\n",
    "#     core + \"_4\",\n",
    "# ]"
   ]
  },
  {
   "cell_type": "code",
   "execution_count": 6,
   "id": "fb95a42f-8845-4952-9332-48f837683bf2",
   "metadata": {},
   "outputs": [],
   "source": [
    "experiment = \"Endometrium\"\n",
    "core = \"L128\"\n",
    "datasets = [\n",
    "    # core + \"_1\",\n",
    "    # core + \"_2\",\n",
    "    core + \"_3\",\n",
    "    # core + \"_4\",\n",
    "]"
   ]
  },
  {
   "cell_type": "code",
   "execution_count": 7,
   "id": "a3e149b6-eb69-478f-b459-9ac4aad55c12",
   "metadata": {},
   "outputs": [],
   "source": [
    "# imgs, markers = get_imgs(f\"{experiment} {core}\", \"IMC\")\n"
   ]
  },
  {
   "cell_type": "code",
   "execution_count": 8,
   "id": "a9d77305-305c-4bc9-8904-a273b5d78e6c",
   "metadata": {},
   "outputs": [],
   "source": [
    "# import napari \n",
    "\n",
    "# viewer = napari.view_image(np.stack(imgs), channel_axis=0, name=markers, visible=False)"
   ]
  },
  {
   "cell_type": "markdown",
   "id": "f47f86e5-4c86-4017-ae3c-b6f89eac3ec7",
   "metadata": {
    "tags": []
   },
   "source": [
    "# Import IMC data \n"
   ]
  },
  {
   "cell_type": "code",
   "execution_count": 9,
   "id": "d8c3ade6-a2fa-44d6-830f-b5e04f8f2543",
   "metadata": {
    "ExecuteTime": {
     "end_time": "2021-10-07T22:54:54.689587Z",
     "start_time": "2021-10-07T22:54:54.408586Z"
    },
    "tags": []
   },
   "outputs": [
    {
     "ename": "KeyboardInterrupt",
     "evalue": "",
     "output_type": "error",
     "traceback": [
      "\u001b[1;31m---------------------------------------------------------------------------\u001b[0m",
      "\u001b[1;31mKeyboardInterrupt\u001b[0m                         Traceback (most recent call last)",
      "\u001b[1;32m~\\AppData\\Local\\Temp/ipykernel_32148/4015860373.py\u001b[0m in \u001b[0;36m<module>\u001b[1;34m\u001b[0m\n\u001b[0;32m      2\u001b[0m \u001b[1;33m\u001b[0m\u001b[0m\n\u001b[0;32m      3\u001b[0m \u001b[1;32mimport\u001b[0m \u001b[0mmatplotlib\u001b[0m\u001b[1;33m.\u001b[0m\u001b[0mpatches\u001b[0m \u001b[1;32mas\u001b[0m \u001b[0mmpatches\u001b[0m\u001b[1;33m\u001b[0m\u001b[1;33m\u001b[0m\u001b[0m\n\u001b[1;32m----> 4\u001b[1;33m \u001b[1;32mfrom\u001b[0m \u001b[0mskimage\u001b[0m\u001b[1;33m.\u001b[0m\u001b[0msegmentation\u001b[0m \u001b[1;32mimport\u001b[0m \u001b[0mmark_boundaries\u001b[0m\u001b[1;33m\u001b[0m\u001b[1;33m\u001b[0m\u001b[0m\n\u001b[0m\u001b[0;32m      5\u001b[0m \u001b[1;32mfrom\u001b[0m \u001b[0mskimage\u001b[0m\u001b[1;33m.\u001b[0m\u001b[0mtransform\u001b[0m \u001b[1;32mimport\u001b[0m \u001b[0mrotate\u001b[0m\u001b[1;33m\u001b[0m\u001b[1;33m\u001b[0m\u001b[0m\n\u001b[0;32m      6\u001b[0m \u001b[1;32mimport\u001b[0m \u001b[0mmatplotlib\u001b[0m\u001b[1;33m.\u001b[0m\u001b[0mpatches\u001b[0m \u001b[1;32mas\u001b[0m \u001b[0mmpatches\u001b[0m\u001b[1;33m\u001b[0m\u001b[1;33m\u001b[0m\u001b[0m\n",
      "\u001b[1;32m~\\Anaconda3\\envs\\new_codex\\lib\\site-packages\\skimage\\segmentation\\__init__.py\u001b[0m in \u001b[0;36m<module>\u001b[1;34m\u001b[0m\n\u001b[0;32m     10\u001b[0m \u001b[1;32mfrom\u001b[0m \u001b[1;33m.\u001b[0m\u001b[0m_watershed\u001b[0m \u001b[1;32mimport\u001b[0m \u001b[0mwatershed\u001b[0m\u001b[1;33m\u001b[0m\u001b[1;33m\u001b[0m\u001b[0m\n\u001b[0;32m     11\u001b[0m \u001b[1;32mfrom\u001b[0m \u001b[1;33m.\u001b[0m\u001b[0m_chan_vese\u001b[0m \u001b[1;32mimport\u001b[0m \u001b[0mchan_vese\u001b[0m\u001b[1;33m\u001b[0m\u001b[1;33m\u001b[0m\u001b[0m\n\u001b[1;32m---> 12\u001b[1;33m from .morphsnakes import (morphological_geodesic_active_contour,\n\u001b[0m\u001b[0;32m     13\u001b[0m                           \u001b[0mmorphological_chan_vese\u001b[0m\u001b[1;33m,\u001b[0m \u001b[0minverse_gaussian_gradient\u001b[0m\u001b[1;33m,\u001b[0m\u001b[1;33m\u001b[0m\u001b[1;33m\u001b[0m\u001b[0m\n\u001b[0;32m     14\u001b[0m                           disk_level_set, checkerboard_level_set)\n",
      "\u001b[1;32m~\\Anaconda3\\envs\\new_codex\\lib\\importlib\\_bootstrap.py\u001b[0m in \u001b[0;36m_find_and_load\u001b[1;34m(name, import_)\u001b[0m\n",
      "\u001b[1;32m~\\Anaconda3\\envs\\new_codex\\lib\\importlib\\_bootstrap.py\u001b[0m in \u001b[0;36m_find_and_load_unlocked\u001b[1;34m(name, import_)\u001b[0m\n",
      "\u001b[1;32m~\\Anaconda3\\envs\\new_codex\\lib\\importlib\\_bootstrap.py\u001b[0m in \u001b[0;36m_find_spec\u001b[1;34m(name, path, target)\u001b[0m\n",
      "\u001b[1;32m~\\Anaconda3\\envs\\new_codex\\lib\\importlib\\_bootstrap_external.py\u001b[0m in \u001b[0;36mfind_spec\u001b[1;34m(cls, fullname, path, target)\u001b[0m\n",
      "\u001b[1;32m~\\Anaconda3\\envs\\new_codex\\lib\\importlib\\_bootstrap_external.py\u001b[0m in \u001b[0;36m_get_spec\u001b[1;34m(cls, fullname, path, target)\u001b[0m\n",
      "\u001b[1;32m~\\Anaconda3\\envs\\new_codex\\lib\\importlib\\_bootstrap_external.py\u001b[0m in \u001b[0;36mfind_spec\u001b[1;34m(self, fullname, target)\u001b[0m\n",
      "\u001b[1;32m~\\Anaconda3\\envs\\new_codex\\lib\\importlib\\_bootstrap_external.py\u001b[0m in \u001b[0;36m_path_stat\u001b[1;34m(path)\u001b[0m\n",
      "\u001b[1;31mKeyboardInterrupt\u001b[0m: "
     ]
    }
   ],
   "source": [
    "from functools import partial\n",
    "\n",
    "import matplotlib.patches as mpatches\n",
    "from skimage.segmentation import mark_boundaries\n",
    "from skimage.transform import rotate\n",
    "import matplotlib.patches as mpatches\n",
    "from collections import Counter\n",
    "import matplotlib.offsetbox\n",
    "from matplotlib.lines import Line2D\n",
    "\n",
    "h5_data_dir = p_dir / \"data\" / \"h5\"\n",
    "\n",
    "\n",
    "def get_imgs(experiment, name):\n",
    "    with h5py.File(h5_data_dir / f\"{experiment}.hdf5\", \"r\") as f:\n",
    "        imgs = f[name][:]\n",
    "        labels = list(f[name].attrs[\"markers\"])\n",
    "    return imgs, labels\n",
    "\n",
    "\n",
    "def contrast_stretching(img):\n",
    "    # Contrast stretching\n",
    "    p2, p98 = np.percentile(img, (1, 99))\n",
    "    img_rescale = exposure.rescale_intensity(\n",
    "        img, in_range=(p2, p98), out_range=(0, 255)\n",
    "    ).astype(np.uint8)\n",
    "    return img_rescale\n",
    "\n",
    "\n",
    "# Read mask image\n",
    "def get_masks(mask_folder, dataset):\n",
    "    \"\"\"\n",
    "    Function to get all mask from mask forlder\n",
    "    \"\"\"\n",
    "    # Read masks\n",
    "    masks = {}\n",
    "\n",
    "    for (dirpath, dirnames, filenames) in os.walk(mask_folder):\n",
    "        for name in sorted(filenames):\n",
    "            if \"tif\" in name and dataset in name:\n",
    "                filename = os.path.join(dirpath, name)\n",
    "                img = skimage.io.imread(filename)\n",
    "                condition = name.split(\".\")[0]\n",
    "                masks[condition] = img\n",
    "            else:\n",
    "                continue\n",
    "    return masks\n",
    "\n",
    "\n",
    "def crop_img(img, info):\n",
    "    # Rotate img\n",
    "    y, h_region, x, w_region = info[\"bbox\"]\n",
    "    rotation = info[\"rotation_init\"]\n",
    "    rotation_small = info[\"rotation_adjust\"]\n",
    "    try:\n",
    "        border = info['border']\n",
    "        img = cv2.copyMakeBorder(img, border, border, border, border, cv2.BORDER_CONSTANT, None, value = 0)\n",
    "    except: pass\n",
    "    img = rotate(img, rotation, resize=True)\n",
    "    # Get region for img\n",
    "    if \"img_region\" in info.keys():\n",
    "        row_min, row_max, col_min, col_max = info[\"img_region\"]\n",
    "        img = img[row_min:row_max, col_min:col_max]\n",
    "\n",
    "    img = img[y : y + h_region, x : x + w_region]\n",
    "    img = contrast_stretching(img)\n",
    "    img = img_as_ubyte(img)\n",
    "    return img\n",
    "\n",
    "\n",
    "def plot_mutliplex(data, channels, RGB_MAP, markers, mask=None):\n",
    "    img = my_utils.convert_to_rgb(data, channels=channels, vmax=255, rgb_map=RGB_MAP)\n",
    "    if mask is not None:\n",
    "        img = mark_boundaries(img, mask, color=(0.8, 0.8, 0.8), mode=\"subpixel\")\n",
    "    fig, ax = plt.subplots(figsize=(12, 10))\n",
    "    ax.imshow(img)\n",
    "    ax.axis(\"off\")\n",
    "\n",
    "    # Color legend\n",
    "    patches = [\n",
    "        mpatches.Patch(color=RGB_MAP[i][\"rgb\"] / 255.0, label=markers[i - 1])\n",
    "        for i in channels\n",
    "    ]\n",
    "    ax.legend(\n",
    "        handles=patches,\n",
    "        bbox_to_anchor=(0, 0),\n",
    "        loc=\"lower right\",\n",
    "        borderaxespad=0.0,\n",
    "        fontsize=10,\n",
    "    )\n",
    "\n",
    "    plt.show()\n",
    "\n",
    "\n",
    "def get_img_subset(imgs, markers, labels):\n",
    "    imgs_subset = []\n",
    "    for marker in markers:\n",
    "        idx = labels.index(marker)\n",
    "        imgs_subset.append(imgs[idx])\n",
    "    return np.stack(imgs_subset, axis=2)\n",
    "\n",
    "\n",
    "def joblib_loop(task, pics):\n",
    "    return Parallel(n_jobs=20)(delayed(task)(i) for i in pics)\n",
    "\n",
    "class AnchoredHScaleBar(matplotlib.offsetbox.AnchoredOffsetbox):\n",
    "    \"\"\" size: length of bar in data units\n",
    "        extent : height of bar ends in axes units \"\"\"\n",
    "    def __init__(self, size=1, extent = 0.03, label=\"\", loc=2, ax=None,\n",
    "                 pad=0.4, borderpad=0.5, ppad = 0, sep=2, prop=None, \n",
    "                 frameon=True, linekw={}, textprops={}, **kwargs):\n",
    "        if not ax:\n",
    "            ax = plt.gca()\n",
    "        trans = ax.get_xaxis_transform()\n",
    "        size_bar = matplotlib.offsetbox.AuxTransformBox(trans)\n",
    "        line = Line2D([0,size],[0,0], **linekw)\n",
    "        vline1 = Line2D([0,0],[-extent/2.,extent/2.], **linekw)\n",
    "        vline2 = Line2D([size,size],[-extent/2.,extent/2.], **linekw)\n",
    "        size_bar.add_artist(line)\n",
    "        size_bar.add_artist(vline1)\n",
    "        size_bar.add_artist(vline2)\n",
    "        txt = matplotlib.offsetbox.TextArea(label, minimumdescent=False, textprops=textprops)\n",
    "        self.vpac = matplotlib.offsetbox.VPacker(children=[size_bar,txt],  \n",
    "                                 align=\"center\", pad=ppad, sep=sep) \n",
    "        matplotlib.offsetbox.AnchoredOffsetbox.__init__(self, loc, pad=pad, \n",
    "                 borderpad=borderpad, child=self.vpac, prop=prop, frameon=frameon,\n",
    "                 **kwargs)\n"
   ]
  },
  {
   "cell_type": "code",
   "execution_count": null,
   "id": "8e96e047-1437-47ed-8461-e7697bfbd82d",
   "metadata": {
    "jupyter": {
     "source_hidden": true
    },
    "tags": []
   },
   "outputs": [],
   "source": [
    "RGB_MAP = {\n",
    "    1: {\"rgb\": np.array([0, 0, 255]), \"range\": [0, 150]},\n",
    "    2: {\"rgb\": np.array([255, 0, 255]), \"range\": [0, 255]},\n",
    "    3: {\"rgb\": np.array([0,255,255]), \"range\": [0, 255]},\n",
    "    4: {\"rgb\": np.array([255,255,0]), \"range\": [0, 255]},\n",
    "}\n",
    "\n",
    "def one_channel(t, channel, vmax=255, rgb_map=RGB_MAP):\n",
    "    \"\"\"\n",
    "    Converts and returns the image data as RGB image\n",
    "    Parameters\n",
    "    ----------\n",
    "    t : np.ndarray\n",
    "        original image data\n",
    "    channels : list of int\n",
    "        channels to include\n",
    "    vmax : int\n",
    "        the max value used for scaling\n",
    "    rgb_map : dict\n",
    "        the color mapping for each channel\n",
    "        See rxrx.io.RGB_MAP to see what the defaults are.\n",
    "    Returns\n",
    "    -------\n",
    "    np.ndarray the image data of the site as RGB channels\n",
    "    \"\"\"\n",
    "    dim1, dim2, _ = t.shape\n",
    "    colored_channels = []\n",
    "    x = (t[:, :, 0] / vmax) / (\n",
    "        (rgb_map[channel][\"range\"][1] - rgb_map[channel][\"range\"][0]) / 255\n",
    "    ) + rgb_map[channel][\"range\"][0] / 255\n",
    "    x = np.where(x > 1.0, 1.0, x)\n",
    "    x_rgb = np.array(\n",
    "        np.outer(x, rgb_map[channel][\"rgb\"]).reshape(dim1, dim2, 3), dtype=int\n",
    "    )\n",
    "    colored_channels.append(x_rgb)\n",
    "    im = np.array(np.array(colored_channels).sum(axis=0), dtype=int)\n",
    "    im = np.where(im > 255, 255, im)\n",
    "    im = im.astype(np.uint8)\n",
    "    return im\n"
   ]
  },
  {
   "cell_type": "code",
   "execution_count": null,
   "id": "9a351eb8-6122-422a-be67-ee808aa20dd5",
   "metadata": {
    "ExecuteTime": {
     "end_time": "2021-10-07T22:54:55.254623Z",
     "start_time": "2021-10-07T22:54:54.968623Z"
    }
   },
   "outputs": [],
   "source": [
    "# imgs, markers = get_imgs(f\"{experiment} {core}\", \"IMC\")\n",
    "# subset = [\"HistoneH3\", 'DNA2']\n",
    "# subset = [\"DNA1\", \"DNA2\", 'Ki67', 'CD21', 'COL1', 'CD38', 'Vimentin', 'CD20', 'H3K27me3', 'PD1']\n",
    "img_dapi = np.max(contrast_stretching(imgs[[markers.index(marker) for marker in subset]]), axis=0)\n",
    "img_dapi = contrast_stretching(img_dapi)\n",
    "\n",
    "for i, dataset in enumerate(datasets):\n",
    "    # Only for endometrium L72 and L128\n",
    "    imgs, markers = get_imgs(f\"{dataset}\", \"IMC\")\n",
    "    subset = [\"DNA1\", 'DNA2']\n",
    "    img_dapi = np.max(contrast_stretching(imgs[[markers.index(marker) for marker in subset]]), axis=0)\n",
    "    img_dapi = contrast_stretching(img_dapi)\n",
    "    \n",
    "    try:\n",
    "        info = my_utils.load_pkl(match_info_dir / f\"{experiment}_{dataset}.pickle\")\n",
    "    except:\n",
    "        continue\n",
    "        \n",
    "    if i == 0:\n",
    "        rotation = info[\"rotation_init\"]\n",
    "        try:\n",
    "            border = info['border']\n",
    "            img_dapi = cv2.copyMakeBorder(img_dapi, border, border, border, border, cv2.BORDER_CONSTANT, None, value = 0)\n",
    "        except: pass\n",
    "        # Rotate image \n",
    "        img_dapi = rotate(img_dapi, rotation, resize=True)\n",
    "        \n",
    "        # Create image\n",
    "        fig, ax = plt.subplots(figsize=(15, 15), facecolor=\"k\")\n",
    "        ax.imshow(img_dapi, cmap=plt.cm.gray)\n",
    "        ax.set_axis_off()\n",
    "        \n",
    "        # Add Scale Bar\n",
    "        ob = AnchoredHScaleBar(size=150, label=\"150\\u03BCm\", loc=4, frameon=False, extent=0.,\n",
    "                       pad=0.1,sep=4, linekw=dict(color=\"w\", linewidth=5), textprops=dict(color='w',fontsize=20))\n",
    "        ax.add_artist(ob)\n",
    "        \n",
    "    # highlight matched region\n",
    "    y, h_region, x, w_region = info[\"bbox\"]\n",
    "    if \"img_region\" in info.keys():\n",
    "        row_min, _, col_min, _ = info[\"img_region\"]\n",
    "        y += row_min\n",
    "        x += col_min\n",
    "    rect = plt.Rectangle(\n",
    "        (x, y), w_region, h_region, edgecolor=\"r\", facecolor=\"none\", lw=3\n",
    "    )\n",
    "    ax.add_patch(rect)\n",
    "    r = dataset.split('_')[-1]\n",
    "    ax.annotate(r, (x+w_region/2, y+h_region/2), color='red', weight='bold', \n",
    "                fontsize=50, ha='center', va='center', rotation=0)\n",
    "\n",
    "## Save image\n",
    "file_path = Path.cwd().parent / 'figures' / 'ROIs' / f'{dataset}.png'\n",
    "fig.savefig(file_path, dpi=500, bbox_inches='tight', pad_inches=0)"
   ]
  },
  {
   "cell_type": "code",
   "execution_count": null,
   "id": "21cf3a9e-a78c-4d25-b4c3-165d075c1788",
   "metadata": {},
   "outputs": [],
   "source": []
  },
  {
   "cell_type": "code",
   "execution_count": null,
   "id": "6c03003e-a216-4cdb-8b88-ac39e0dfba65",
   "metadata": {},
   "outputs": [],
   "source": []
  }
 ],
 "metadata": {
  "kernelspec": {
   "display_name": "Python [conda env:new_codex] *",
   "language": "python",
   "name": "conda-env-new_codex-py"
  },
  "language_info": {
   "codemirror_mode": {
    "name": "ipython",
    "version": 3
   },
   "file_extension": ".py",
   "mimetype": "text/x-python",
   "name": "python",
   "nbconvert_exporter": "python",
   "pygments_lexer": "ipython3",
   "version": "3.9.7"
  }
 },
 "nbformat": 4,
 "nbformat_minor": 5
}
