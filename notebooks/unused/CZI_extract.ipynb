{
 "cells": [
  {
   "cell_type": "code",
   "execution_count": 96,
   "id": "75545e46-70c6-4487-9c4d-8e665fe16ddd",
   "metadata": {
    "ExecuteTime": {
     "end_time": "2021-10-07T22:47:35.041706Z",
     "start_time": "2021-10-07T22:47:34.714636Z"
    }
   },
   "outputs": [],
   "source": [
    "import os \n",
    "import sys\n",
    "\n",
    "from os import listdir\n",
    "import numpy as np\n",
    "import matplotlib.pyplot as plt\n",
    "from tqdm.notebook import trange, tqdm\n",
    "from pathlib import Path\n",
    "from skimage import exposure, io\n",
    "import h5py\n",
    "import cv2 as cv\n",
    "from skimage.util import img_as_ubyte\n",
    "from skimage import exposure\n",
    "import pandas as pd\n",
    "from joblib import Parallel, delayed\n",
    "import skimage"
   ]
  },
  {
   "cell_type": "code",
   "execution_count": 97,
   "id": "8b079f68-f831-4c0a-bb54-de01fb1aa9dd",
   "metadata": {
    "ExecuteTime": {
     "end_time": "2021-10-07T22:47:35.365702Z",
     "start_time": "2021-10-07T22:47:35.044700Z"
    }
   },
   "outputs": [],
   "source": [
    "p_dir = (Path().cwd().parents[0]).absolute()\n",
    "data_dir = p_dir / 'data'\n",
    "match_info_dir = data_dir / 'match'"
   ]
  },
  {
   "cell_type": "code",
   "execution_count": 98,
   "id": "3490a312-f5ec-46e8-a306-4a84a196fe07",
   "metadata": {
    "ExecuteTime": {
     "end_time": "2021-10-07T22:47:35.642794Z",
     "start_time": "2021-10-07T22:47:35.367704Z"
    }
   },
   "outputs": [
    {
     "name": "stdout",
     "output_type": "stream",
     "text": [
      "The autoreload extension is already loaded. To reload it, use:\n",
      "  %reload_ext autoreload\n"
     ]
    }
   ],
   "source": [
    "%load_ext autoreload\n",
    "%autoreload 2\n",
    "\n",
    "module_path = str(p_dir / \"src\")\n",
    "\n",
    "if module_path not in sys.path:\n",
    "    sys.path.append(module_path)\n",
    "\n",
    "import utils as my_utils"
   ]
  },
  {
   "cell_type": "code",
   "execution_count": 99,
   "id": "1bf54f14-6820-4b36-b1f4-e1b6aa8de050",
   "metadata": {},
   "outputs": [],
   "source": [
    "experiment = 'endometrium'\n",
    "\n",
    "ts_data_dir = p_dir / 'data' / 'tof-sims' / experiment\n",
    "datasets = listdir(ts_data_dir)\n",
    "datasets = [dataset for dataset in datasets if 'auto' not in dataset]"
   ]
  },
  {
   "cell_type": "markdown",
   "id": "3ba3a292-38b9-4c9f-93e8-233e7a600b14",
   "metadata": {},
   "source": [
    "# Import SIMS data"
   ]
  },
  {
   "cell_type": "code",
   "execution_count": 100,
   "id": "0d7899bf-444d-4e17-9339-17d464246439",
   "metadata": {},
   "outputs": [],
   "source": [
    "from skimage.transform import rotate\n",
    "from functools import partial\n",
    "import matplotlib.patches as mpatches\n",
    "from skimage.segmentation import mark_boundaries\n",
    "from sklearn.preprocessing import MinMaxScaler\n",
    "\n",
    "h5_data_dir = p_dir / 'data' / 'h5'\n",
    "\n",
    "def get_imgs_sims(experiment, name):\n",
    "    with h5py.File(h5_data_dir / f'{experiment}.hdf5', 'r') as f:\n",
    "        imgs = f[name][:]\n",
    "        labels = list(f[name].attrs['labels'])\n",
    "    return imgs, labels\n",
    "\n",
    "def contrast_stretching(img):\n",
    "    # Contrast stretching\n",
    "    p2, p98 = np.percentile(img, (0.1, 99.9))\n",
    "    img_rescale = exposure.rescale_intensity(img, in_range=(p2, p98), out_range = (0, 255)).astype(np.uint8)\n",
    "    return img_rescale\n",
    "\n",
    "# Read mask image\n",
    "def get_masks(mask_folder, dataset):\n",
    "    '''\n",
    "    Function to get all mask from mask forlder\n",
    "    '''\n",
    "    # Read masks\n",
    "    masks = {}\n",
    "\n",
    "    for (dirpath, dirnames, filenames) in os.walk(mask_folder):\n",
    "        for name in sorted(filenames):\n",
    "            if \"tif\" in name and dataset in name:\n",
    "                filename = os.path.join(dirpath, name)\n",
    "                img = skimage.io.imread(filename)\n",
    "                condition = name.split('.')[0].split('_')[1:]\n",
    "                condition = '_'.join(condition)\n",
    "                masks[condition] = img\n",
    "            else:\n",
    "                continue\n",
    "    return masks\n",
    "\n",
    "def crop_img(img, rotation, bbox):\n",
    "    y, h_region, x, w_region = bbox\n",
    "    img_rot = rotate(img, rotation)\n",
    "    img_rot = img_rot[y:y+h_region, x:x+w_region]\n",
    "    img_rot = img_as_ubyte(img_rot)\n",
    "    return contrast_stretching(img_rot)\n",
    "\n",
    "def joblib_loop(task, pics):\n",
    "    return Parallel(n_jobs=20)(delayed(task)(i) for i in pics)"
   ]
  },
  {
   "cell_type": "code",
   "execution_count": 101,
   "id": "3eaa3c80-18fe-4184-b384-00f2008fbf83",
   "metadata": {},
   "outputs": [],
   "source": [
    "from skimage.measure import regionprops_table\n",
    "from skimage.transform import resize\n",
    "\n",
    "def get_region_props(img, mask, marker, prop):\n",
    "    \"\"\"\n",
    "    Get regionprops from masked region\n",
    "    \"\"\"\n",
    "    props = regionprops_table(mask, img, properties=prop)\n",
    "\n",
    "    df_marker = pd.DataFrame(props)\n",
    "    df_marker[\"Marker\"] = marker\n",
    "    df_marker[\"Id\"] = regionprops_table(mask, properties=[\"label\"])[\"label\"]\n",
    "\n",
    "    return df_marker\n",
    "\n",
    "def extract_prop(imgs, labels, mask):\n",
    "    appended_data_intensity = []\n",
    "    \n",
    "    for i, img in enumerate(imgs):\n",
    "        df_marker = get_region_props(img, mask, labels[i], [\"mean_intensity\"])\n",
    "        appended_data_intensity.append(df_marker)\n",
    "        \n",
    "        if i == 0:\n",
    "            df_prop_morph = get_region_props(\n",
    "                img, mask, labels[i], [\"area\", \"centroid\"]\n",
    "            )\n",
    "    \n",
    "    df_prop_intensity = pd.concat(appended_data_intensity, ignore_index=True)\n",
    "    df_prop_intensity = df_prop_intensity.sort_values(\n",
    "        by=[\"Id\"]\n",
    "    ).reset_index(drop=True)\n",
    "    \n",
    "    x_scaled = MinMaxScaler().fit_transform(df_prop_intensity[['mean_intensity']])\n",
    "    df_prop_intensity['mean_intensity'] = x_scaled\n",
    "    \n",
    "    df_prop_morph = df_prop_morph.drop(['Marker'], axis=1)\n",
    "    \n",
    "    return df_prop_intensity, df_prop_morph\n",
    "\n",
    "def extract_prop_ts(imgs, labels, mask):\n",
    "    appended_data_intensity = []\n",
    "    \n",
    "    for i, img in enumerate(imgs):\n",
    "        img = resize(img, mask.shape, anti_aliasing=False)\n",
    "        p2, p98 = np.percentile(img, (0, 100))\n",
    "        img = exposure.rescale_intensity(img, in_range=(p2, p98), out_range=(0, 255))\n",
    "        img = img.astype(np.uint8)\n",
    "        df_marker = get_region_props(img, mask, labels[i], [\"mean_intensity\"])\n",
    "        appended_data_intensity.append(df_marker)\n",
    "        \n",
    "        if i == 0:\n",
    "            df_prop_morph = get_region_props(\n",
    "                img, mask, labels[i], [\"area\", 'centroid']\n",
    "            )\n",
    "    \n",
    "    df_prop_intensity = pd.concat(appended_data_intensity, ignore_index=True)\n",
    "    df_prop_intensity = df_prop_intensity.sort_values(\n",
    "        by=[\"Id\"]\n",
    "    ).reset_index(drop=True)\n",
    "    \n",
    "    df_prop_morph = df_prop_morph.drop(['Marker'], axis=1)\n",
    "    \n",
    "    x_scaled = MinMaxScaler().fit_transform(df_prop_intensity[['mean_intensity']])\n",
    "    df_prop_intensity['mean_intensity'] = x_scaled\n",
    "    \n",
    "    return df_prop_intensity, df_prop_morph"
   ]
  },
  {
   "cell_type": "code",
   "execution_count": 102,
   "id": "61ac02e7-0d32-4bac-8281-8f86631c6a9d",
   "metadata": {},
   "outputs": [],
   "source": [
    "masses = [50,190,191,193,194,196,198,200,201,202,203,55,204,205,206,207,208,209,210,212,214,216,56,217,220,221,222,223,224,225,226,229,232,57,236,238,240,243,246,248,249,250,252,253,58,254,256,259,261,263,265,267,269,273,275,59,276,279,282,289,301,307,308,310,318,60,328,332,339,344,353,359,369,380,385,397,61,412,424,431,436,448,457,468,474,479,498,63,501,510,514,518,520,529,544,552,570,586,64,593,610,1,66,67,68,69,70,71,72,73,74,75,16,76,78,79,80,81,82,83,84,85,86,17,87,88,91,93,95,96,97,98,100,102,30,104,105,107,109,111,112,115,116,117,118,34,121,122,124,125,127,128,131,133,134,138,35,140,141,143,144,145,146,148,149,150,151,42,153,155,156,158,159,161,162,164,165,166,44,167,168,169,170,171,173,179,182,184,185]\n",
    "masses.sort()\n",
    "masses = ['Total', 'Rest'] + masses"
   ]
  },
  {
   "cell_type": "code",
   "execution_count": 103,
   "id": "62cca867-f7de-4461-b1dd-866f3f5e975e",
   "metadata": {},
   "outputs": [],
   "source": [
    "masks = get_masks(data_dir / 'masks', experiment)"
   ]
  },
  {
   "cell_type": "code",
   "execution_count": 104,
   "id": "205475a8-f038-4e92-9d16-7bfaa70b41ce",
   "metadata": {},
   "outputs": [],
   "source": [
    "for dataset in datasets:\n",
    "\n",
    "    mask = masks[dataset]\n",
    "    imgs, labels= get_imgs_sims(experiment, dataset)\n",
    "    \n",
    "    df_prop_intensity, df_prop_morph = extract_prop_ts(imgs, masses, mask)\n",
    "    df_prop_intensity = pd.pivot_table(df_prop_intensity, values='mean_intensity', index='Id', columns='Marker')\n",
    "    df_prop_intensity.to_csv(data_dir / 'props' / f'intensity_TS_{experiment}_{dataset}.csv')\n",
    "    df_prop_morph.to_csv(data_dir / 'props' / f'morphology_IMC_{experiment}_{dataset}.csv', index=False)"
   ]
  },
  {
   "cell_type": "markdown",
   "id": "38e355e9-f258-4161-a422-0e88d983b8b7",
   "metadata": {},
   "source": [
    "# Patch based intensity extraction"
   ]
  },
  {
   "cell_type": "code",
   "execution_count": 105,
   "id": "d4e43199-8bd7-49e9-9113-3a50add81dd0",
   "metadata": {},
   "outputs": [],
   "source": [
    "from einops import rearrange, reduce, repeat"
   ]
  },
  {
   "cell_type": "code",
   "execution_count": 106,
   "id": "fbdf696f-ae2d-4ce4-8ddb-f52174046f4f",
   "metadata": {},
   "outputs": [],
   "source": [
    "for dataset in datasets:\n",
    "\n",
    "    mask = masks[dataset]\n",
    "    imgs, labels= get_imgs_sims(experiment, dataset)\n",
    "    imgs = np.stack(imgs).astype(np.float64)\n",
    "    imgs_reduce = reduce(imgs, 'n (h h2) (w w2) -> n h w', 'mean', h2=4, w2=4)\n",
    "    imgs_reduce = rearrange(imgs_reduce, 'n h w -> n (h w)')\n",
    "    break"
   ]
  },
  {
   "cell_type": "code",
   "execution_count": null,
   "id": "90c4b982-69e9-4db0-a04d-3a13b7591855",
   "metadata": {},
   "outputs": [],
   "source": []
  },
  {
   "cell_type": "code",
   "execution_count": null,
   "id": "4aeb7feb-128a-47ab-b9c2-8340a915bbff",
   "metadata": {},
   "outputs": [],
   "source": []
  }
 ],
 "metadata": {
  "kernelspec": {
   "display_name": "Python 3 (ipykernel)",
   "language": "python",
   "name": "python3"
  },
  "language_info": {
   "codemirror_mode": {
    "name": "ipython",
    "version": 3
   },
   "file_extension": ".py",
   "mimetype": "text/x-python",
   "name": "python",
   "nbconvert_exporter": "python",
   "pygments_lexer": "ipython3",
   "version": "3.9.7"
  }
 },
 "nbformat": 4,
 "nbformat_minor": 5
}
